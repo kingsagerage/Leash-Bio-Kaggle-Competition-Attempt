{
 "cells": [
  {
   "cell_type": "code",
   "execution_count": 1,
   "metadata": {},
   "outputs": [],
   "source": [
    "import pandas as pd\n",
    "import numpy as np\n",
    "import rdkit\n",
    "import duckdb\n",
    "from rdkit import Chem\n",
    "from rdkit.Chem import AllChem\n",
    "from sklearn.ensemble import RandomForestClassifier\n",
    "from sklearn.metrics import average_precision_score\n",
    "from sklearn.preprocessing import OneHotEncoder\n",
    "from sklearn.model_selection import train_test_split\n",
    "from sklearn.preprocessing import StandardScaler\n",
    "from tensorflow.keras.models import Sequential\n",
    "from tensorflow.keras.layers import Dense, Dropout\n",
    "from tensorflow.keras.optimizers import Adam\n",
    "from tensorflow.keras.callbacks import EarlyStopping\n",
    "import tensorflow as tf\n",
    "from tensorflow.keras.metrics import Precision"
   ]
  },
  {
   "cell_type": "code",
   "execution_count": 2,
   "metadata": {},
   "outputs": [],
   "source": [
    "#Reading only 100,000 rows for the initial training and playground stuff\n",
    "train_df = pd.read_csv(r\"C:\\dta_genes\\train.csv\", nrows=1000000)"
   ]
  },
  {
   "cell_type": "code",
   "execution_count": 3,
   "metadata": {},
   "outputs": [],
   "source": [
    "#Converting to RDKit molecules\n",
    "train_df['molecule'] = train_df['molecule_smiles'].apply(Chem.MolFromSmiles)"
   ]
  },
  {
   "cell_type": "code",
   "execution_count": 4,
   "metadata": {},
   "outputs": [],
   "source": [
    "# Generate ECFPs\n",
    "def generate_ecfp(molecule, radius=3, bits=1024):\n",
    "    if molecule is None:\n",
    "        return None\n",
    "    return list(AllChem.GetMorganFingerprintAsBitVect(molecule, radius, nBits=bits))\n",
    "\n",
    "train_df['ecfp'] = train_df['molecule'].apply(generate_ecfp)"
   ]
  },
  {
   "cell_type": "code",
   "execution_count": 5,
   "metadata": {},
   "outputs": [
    {
     "data": {
      "text/html": [
       "<div>\n",
       "<style scoped>\n",
       "    .dataframe tbody tr th:only-of-type {\n",
       "        vertical-align: middle;\n",
       "    }\n",
       "\n",
       "    .dataframe tbody tr th {\n",
       "        vertical-align: top;\n",
       "    }\n",
       "\n",
       "    .dataframe thead th {\n",
       "        text-align: right;\n",
       "    }\n",
       "</style>\n",
       "<table border=\"1\" class=\"dataframe\">\n",
       "  <thead>\n",
       "    <tr style=\"text-align: right;\">\n",
       "      <th></th>\n",
       "      <th>id</th>\n",
       "      <th>buildingblock1_smiles</th>\n",
       "      <th>buildingblock2_smiles</th>\n",
       "      <th>buildingblock3_smiles</th>\n",
       "      <th>molecule_smiles</th>\n",
       "      <th>protein_name</th>\n",
       "      <th>binds</th>\n",
       "      <th>molecule</th>\n",
       "      <th>ecfp</th>\n",
       "    </tr>\n",
       "  </thead>\n",
       "  <tbody>\n",
       "    <tr>\n",
       "      <th>0</th>\n",
       "      <td>0</td>\n",
       "      <td>C#CC[C@@H](CC(=O)O)NC(=O)OCC1c2ccccc2-c2ccccc21</td>\n",
       "      <td>C#CCOc1ccc(CN)cc1.Cl</td>\n",
       "      <td>Br.Br.NCC1CCCN1c1cccnn1</td>\n",
       "      <td>C#CCOc1ccc(CNc2nc(NCC3CCCN3c3cccnn3)nc(N[C@@H]...</td>\n",
       "      <td>BRD4</td>\n",
       "      <td>0</td>\n",
       "      <td>&lt;rdkit.Chem.rdchem.Mol object at 0x0000022995A...</td>\n",
       "      <td>[0, 1, 0, 0, 1, 0, 0, 0, 0, 0, 0, 0, 0, 0, 0, ...</td>\n",
       "    </tr>\n",
       "    <tr>\n",
       "      <th>1</th>\n",
       "      <td>1</td>\n",
       "      <td>C#CC[C@@H](CC(=O)O)NC(=O)OCC1c2ccccc2-c2ccccc21</td>\n",
       "      <td>C#CCOc1ccc(CN)cc1.Cl</td>\n",
       "      <td>Br.Br.NCC1CCCN1c1cccnn1</td>\n",
       "      <td>C#CCOc1ccc(CNc2nc(NCC3CCCN3c3cccnn3)nc(N[C@@H]...</td>\n",
       "      <td>HSA</td>\n",
       "      <td>0</td>\n",
       "      <td>&lt;rdkit.Chem.rdchem.Mol object at 0x0000022995A...</td>\n",
       "      <td>[0, 1, 0, 0, 1, 0, 0, 0, 0, 0, 0, 0, 0, 0, 0, ...</td>\n",
       "    </tr>\n",
       "    <tr>\n",
       "      <th>2</th>\n",
       "      <td>2</td>\n",
       "      <td>C#CC[C@@H](CC(=O)O)NC(=O)OCC1c2ccccc2-c2ccccc21</td>\n",
       "      <td>C#CCOc1ccc(CN)cc1.Cl</td>\n",
       "      <td>Br.Br.NCC1CCCN1c1cccnn1</td>\n",
       "      <td>C#CCOc1ccc(CNc2nc(NCC3CCCN3c3cccnn3)nc(N[C@@H]...</td>\n",
       "      <td>sEH</td>\n",
       "      <td>0</td>\n",
       "      <td>&lt;rdkit.Chem.rdchem.Mol object at 0x0000022995A...</td>\n",
       "      <td>[0, 1, 0, 0, 1, 0, 0, 0, 0, 0, 0, 0, 0, 0, 0, ...</td>\n",
       "    </tr>\n",
       "    <tr>\n",
       "      <th>3</th>\n",
       "      <td>3</td>\n",
       "      <td>C#CC[C@@H](CC(=O)O)NC(=O)OCC1c2ccccc2-c2ccccc21</td>\n",
       "      <td>C#CCOc1ccc(CN)cc1.Cl</td>\n",
       "      <td>Br.NCc1cccc(Br)n1</td>\n",
       "      <td>C#CCOc1ccc(CNc2nc(NCc3cccc(Br)n3)nc(N[C@@H](CC...</td>\n",
       "      <td>BRD4</td>\n",
       "      <td>0</td>\n",
       "      <td>&lt;rdkit.Chem.rdchem.Mol object at 0x0000022995A...</td>\n",
       "      <td>[0, 1, 0, 0, 0, 0, 0, 0, 0, 0, 0, 0, 0, 0, 0, ...</td>\n",
       "    </tr>\n",
       "    <tr>\n",
       "      <th>4</th>\n",
       "      <td>4</td>\n",
       "      <td>C#CC[C@@H](CC(=O)O)NC(=O)OCC1c2ccccc2-c2ccccc21</td>\n",
       "      <td>C#CCOc1ccc(CN)cc1.Cl</td>\n",
       "      <td>Br.NCc1cccc(Br)n1</td>\n",
       "      <td>C#CCOc1ccc(CNc2nc(NCc3cccc(Br)n3)nc(N[C@@H](CC...</td>\n",
       "      <td>HSA</td>\n",
       "      <td>0</td>\n",
       "      <td>&lt;rdkit.Chem.rdchem.Mol object at 0x0000022995A...</td>\n",
       "      <td>[0, 1, 0, 0, 0, 0, 0, 0, 0, 0, 0, 0, 0, 0, 0, ...</td>\n",
       "    </tr>\n",
       "  </tbody>\n",
       "</table>\n",
       "</div>"
      ],
      "text/plain": [
       "   id                            buildingblock1_smiles buildingblock2_smiles  \\\n",
       "0   0  C#CC[C@@H](CC(=O)O)NC(=O)OCC1c2ccccc2-c2ccccc21  C#CCOc1ccc(CN)cc1.Cl   \n",
       "1   1  C#CC[C@@H](CC(=O)O)NC(=O)OCC1c2ccccc2-c2ccccc21  C#CCOc1ccc(CN)cc1.Cl   \n",
       "2   2  C#CC[C@@H](CC(=O)O)NC(=O)OCC1c2ccccc2-c2ccccc21  C#CCOc1ccc(CN)cc1.Cl   \n",
       "3   3  C#CC[C@@H](CC(=O)O)NC(=O)OCC1c2ccccc2-c2ccccc21  C#CCOc1ccc(CN)cc1.Cl   \n",
       "4   4  C#CC[C@@H](CC(=O)O)NC(=O)OCC1c2ccccc2-c2ccccc21  C#CCOc1ccc(CN)cc1.Cl   \n",
       "\n",
       "     buildingblock3_smiles                                    molecule_smiles  \\\n",
       "0  Br.Br.NCC1CCCN1c1cccnn1  C#CCOc1ccc(CNc2nc(NCC3CCCN3c3cccnn3)nc(N[C@@H]...   \n",
       "1  Br.Br.NCC1CCCN1c1cccnn1  C#CCOc1ccc(CNc2nc(NCC3CCCN3c3cccnn3)nc(N[C@@H]...   \n",
       "2  Br.Br.NCC1CCCN1c1cccnn1  C#CCOc1ccc(CNc2nc(NCC3CCCN3c3cccnn3)nc(N[C@@H]...   \n",
       "3        Br.NCc1cccc(Br)n1  C#CCOc1ccc(CNc2nc(NCc3cccc(Br)n3)nc(N[C@@H](CC...   \n",
       "4        Br.NCc1cccc(Br)n1  C#CCOc1ccc(CNc2nc(NCc3cccc(Br)n3)nc(N[C@@H](CC...   \n",
       "\n",
       "  protein_name  binds                                           molecule  \\\n",
       "0         BRD4      0  <rdkit.Chem.rdchem.Mol object at 0x0000022995A...   \n",
       "1          HSA      0  <rdkit.Chem.rdchem.Mol object at 0x0000022995A...   \n",
       "2          sEH      0  <rdkit.Chem.rdchem.Mol object at 0x0000022995A...   \n",
       "3         BRD4      0  <rdkit.Chem.rdchem.Mol object at 0x0000022995A...   \n",
       "4          HSA      0  <rdkit.Chem.rdchem.Mol object at 0x0000022995A...   \n",
       "\n",
       "                                                ecfp  \n",
       "0  [0, 1, 0, 0, 1, 0, 0, 0, 0, 0, 0, 0, 0, 0, 0, ...  \n",
       "1  [0, 1, 0, 0, 1, 0, 0, 0, 0, 0, 0, 0, 0, 0, 0, ...  \n",
       "2  [0, 1, 0, 0, 1, 0, 0, 0, 0, 0, 0, 0, 0, 0, 0, ...  \n",
       "3  [0, 1, 0, 0, 0, 0, 0, 0, 0, 0, 0, 0, 0, 0, 0, ...  \n",
       "4  [0, 1, 0, 0, 0, 0, 0, 0, 0, 0, 0, 0, 0, 0, 0, ...  "
      ]
     },
     "execution_count": 5,
     "metadata": {},
     "output_type": "execute_result"
    }
   ],
   "source": [
    "train_df.head()"
   ]
  },
  {
   "cell_type": "code",
   "execution_count": 6,
   "metadata": {},
   "outputs": [],
   "source": [
    "# One hot encoding protein name\n",
    "one_hot_encoded = pd.get_dummies(train_df['protein_name'], prefix='Protein: ')\n",
    "one_hot_encoded = one_hot_encoded.astype(int)\n",
    "ndfn = train_df.drop('protein_name', axis=1)\n",
    "ndf = pd.concat([ndfn, one_hot_encoded], axis=1)"
   ]
  },
  {
   "cell_type": "code",
   "execution_count": 7,
   "metadata": {},
   "outputs": [
    {
     "name": "stdout",
     "output_type": "stream",
     "text": [
      "Index(['id', 'buildingblock1_smiles', 'buildingblock2_smiles',\n",
      "       'buildingblock3_smiles', 'molecule_smiles', 'binds', 'molecule', 'ecfp',\n",
      "       'Protein: _BRD4', 'Protein: _HSA', 'Protein: _sEH'],\n",
      "      dtype='object')\n"
     ]
    }
   ],
   "source": [
    "print(ndf.columns)"
   ]
  },
  {
   "cell_type": "code",
   "execution_count": 8,
   "metadata": {},
   "outputs": [
    {
     "name": "stdout",
     "output_type": "stream",
     "text": [
      "[1024]\n"
     ]
    }
   ],
   "source": [
    "list_lengths = ndf['ecfp'].apply(len)\n",
    "print(list_lengths.unique())"
   ]
  },
  {
   "cell_type": "code",
   "execution_count": 9,
   "metadata": {},
   "outputs": [],
   "source": [
    "# Convert the list column into separate columns\n",
    "expanded_df = pd.DataFrame(ndf['ecfp'].to_list(), columns=[f'ecfp_{i+1}' for i in range(1024)])\n",
    "\n",
    "# Combine the expanded DataFrame with the original DataFrame\n",
    "result_df = pd.concat([ndf, expanded_df], axis=1)\n",
    "\n",
    "# Drop the original 'ecfp' column\n",
    "result_df.drop(columns=['ecfp'], inplace=True)\n"
   ]
  },
  {
   "cell_type": "code",
   "execution_count": 10,
   "metadata": {},
   "outputs": [
    {
     "name": "stdout",
     "output_type": "stream",
     "text": [
      "            id  binds  Protein: _BRD4  Protein: _HSA  Protein: _sEH  ecfp_1  \\\n",
      "0            0      0               1              0              0       0   \n",
      "1            1      0               0              1              0       0   \n",
      "2            2      0               0              0              1       0   \n",
      "3            3      0               1              0              0       0   \n",
      "4            4      0               0              1              0       0   \n",
      "...        ...    ...             ...            ...            ...     ...   \n",
      "999995  999995      0               0              0              1       0   \n",
      "999996  999996      0               1              0              0       0   \n",
      "999997  999997      0               0              1              0       0   \n",
      "999998  999998      0               0              0              1       0   \n",
      "999999  999999      0               1              0              0       0   \n",
      "\n",
      "        ecfp_2  ecfp_3  ecfp_4  ecfp_5  ...  ecfp_1015  ecfp_1016  ecfp_1017  \\\n",
      "0            1       0       0       1  ...          0          0          0   \n",
      "1            1       0       0       1  ...          0          0          0   \n",
      "2            1       0       0       1  ...          0          0          0   \n",
      "3            1       0       0       0  ...          0          0          0   \n",
      "4            1       0       0       0  ...          0          0          0   \n",
      "...        ...     ...     ...     ...  ...        ...        ...        ...   \n",
      "999995       1       0       0       0  ...          0          0          0   \n",
      "999996       1       0       0       0  ...          0          0          0   \n",
      "999997       1       0       0       0  ...          0          0          0   \n",
      "999998       1       0       0       0  ...          0          0          0   \n",
      "999999       1       0       0       0  ...          0          0          0   \n",
      "\n",
      "        ecfp_1018  ecfp_1019  ecfp_1020  ecfp_1021  ecfp_1022  ecfp_1023  \\\n",
      "0               0          0          1          0          0          0   \n",
      "1               0          0          1          0          0          0   \n",
      "2               0          0          1          0          0          0   \n",
      "3               0          0          0          0          0          0   \n",
      "4               0          0          0          0          0          0   \n",
      "...           ...        ...        ...        ...        ...        ...   \n",
      "999995          0          0          0          0          0          0   \n",
      "999996          0          0          0          0          0          0   \n",
      "999997          0          0          0          0          0          0   \n",
      "999998          0          0          0          0          0          0   \n",
      "999999          0          0          0          0          0          0   \n",
      "\n",
      "        ecfp_1024  \n",
      "0               0  \n",
      "1               0  \n",
      "2               0  \n",
      "3               0  \n",
      "4               0  \n",
      "...           ...  \n",
      "999995          0  \n",
      "999996          1  \n",
      "999997          1  \n",
      "999998          1  \n",
      "999999          0  \n",
      "\n",
      "[1000000 rows x 1029 columns]\n"
     ]
    }
   ],
   "source": [
    "# Filter numeric columns\n",
    "numeric_columns = result_df.select_dtypes(include='number').columns\n",
    "\n",
    "# Keep only numeric columns\n",
    "df_numeric = result_df[numeric_columns]\n",
    "\n",
    "# Display the DataFrame with only numeric columns\n",
    "print(df_numeric)"
   ]
  },
  {
   "cell_type": "code",
   "execution_count": 21,
   "metadata": {},
   "outputs": [],
   "source": [
    "pc_list = ['PC1', 'PC2', 'PC3', 'PC4', 'PC5', 'PC6', 'PC7', 'PC8', 'PC9', 'PC10', 'PC11', 'PC12', 'PC13', 'PC14']\n",
    "\n",
    "for i in range(15, 301):\n",
    "    pc_list.append(f'PC{i}')"
   ]
  },
  {
   "cell_type": "code",
   "execution_count": 22,
   "metadata": {},
   "outputs": [
    {
     "name": "stdout",
     "output_type": "stream",
     "text": [
      "Explained variance ratio: [0.04029114 0.02107074 0.01899829 0.01644077 0.01547588 0.01393259\n",
      " 0.01383947 0.01244007 0.01177031 0.01091226 0.01011457 0.00938718\n",
      " 0.00914829 0.00908334 0.00865244 0.00829335 0.00827611 0.00795335\n",
      " 0.00749006 0.00730513 0.00721486 0.00721484 0.00683411 0.0067788\n",
      " 0.00617406 0.00605365 0.00591683 0.00580766 0.00565354 0.00550892\n",
      " 0.00543564 0.00537836 0.00518003 0.0050504  0.00490655 0.00487459\n",
      " 0.00485784 0.00474376 0.00462776 0.00453419 0.00443893 0.00437646\n",
      " 0.00433537 0.00422909 0.0041377  0.0041034  0.00405716 0.00395791\n",
      " 0.00395611 0.00386548 0.00385418 0.00377155 0.00368256 0.00365632\n",
      " 0.00362053 0.00358888 0.00351156 0.00345422 0.00340777 0.00339281\n",
      " 0.00333387 0.0033242  0.00325198 0.00321625 0.00319498 0.00318578\n",
      " 0.0031136  0.00308674 0.00304133 0.00300583 0.00298341 0.00297356\n",
      " 0.0029566  0.00292815 0.00290894 0.00289074 0.00284654 0.00281531\n",
      " 0.0027797  0.00274475 0.00273396 0.00270865 0.00270398 0.00266639\n",
      " 0.00264953 0.00263371 0.00261973 0.00259942 0.0025921  0.00255092\n",
      " 0.00253594 0.00250767 0.00249187 0.00246002 0.00244153 0.00241192\n",
      " 0.00240827 0.00239169 0.00238045 0.00235443 0.00233625 0.00233104\n",
      " 0.00230843 0.00229601 0.00228832 0.00226774 0.00225766 0.0022325\n",
      " 0.00221782 0.00219908 0.00219274 0.00218201 0.00217595 0.00216531\n",
      " 0.0021341  0.0021322  0.00212295 0.0020979  0.00208137 0.00206944\n",
      " 0.00206436 0.00204933 0.00202917 0.00201734 0.00200144 0.00198559\n",
      " 0.00197418 0.00196852 0.00196579 0.00195628 0.00193976 0.00192949\n",
      " 0.00192529 0.0019053  0.00188824 0.00188639 0.00187006 0.0018598\n",
      " 0.00184375 0.00183932 0.00182614 0.00181179 0.00180434 0.0017888\n",
      " 0.00178257 0.00176806 0.00175544 0.00175226 0.00174515 0.00172851\n",
      " 0.00172299 0.00171447 0.00170927 0.00170208 0.00169395 0.00168474\n",
      " 0.00166279 0.00165613 0.00164938 0.00164335 0.00164013 0.00163327\n",
      " 0.00162206 0.00161336 0.00159401 0.00158917 0.00157981 0.00157742\n",
      " 0.0015678  0.00156389 0.00155399 0.00154107 0.00153117 0.00152773\n",
      " 0.00151375 0.00151016 0.00149804 0.00149006 0.00148988 0.00147779\n",
      " 0.00147144 0.00146526 0.00145875 0.00144635 0.00144318 0.00143773\n",
      " 0.00142502 0.00142149 0.00141051 0.00140584 0.00140066 0.00139316\n",
      " 0.00138857 0.00138246 0.00136875 0.00136622 0.00135564 0.00135109\n",
      " 0.00134508 0.00133746 0.00133604 0.00132448 0.00131966 0.00130533\n",
      " 0.00130004 0.00129716 0.00128413 0.0012753  0.00127143 0.0012609\n",
      " 0.00125555 0.0012517  0.00124788 0.00124304 0.00123798 0.00123609\n",
      " 0.00122562 0.00122291 0.00120437 0.00119896 0.00119285 0.00118965\n",
      " 0.00118328 0.0011799  0.00117819 0.00117292 0.00116409 0.00116084\n",
      " 0.00115694 0.00114924 0.00114381 0.00113944 0.0011373  0.00113071\n",
      " 0.00112342 0.00111745 0.0011125  0.00111211 0.00110008 0.0010936\n",
      " 0.00108906 0.0010829  0.00107499 0.00107352 0.00106385 0.00106105\n",
      " 0.00105232 0.00105042 0.00104838 0.00104152 0.00103674 0.00102862\n",
      " 0.00102184 0.00101916 0.00101145 0.00101014 0.00099905 0.00099735\n",
      " 0.00098653 0.0009845  0.00098266 0.00097742 0.00097583 0.00096888\n",
      " 0.00096408 0.0009555  0.00095446 0.00094491 0.00093847 0.00092772\n",
      " 0.00092327 0.00092185 0.00091516 0.00091375 0.00090908 0.00090296\n",
      " 0.00089913 0.00089433 0.00088286 0.00087959 0.00087138 0.00086676\n",
      " 0.00086233 0.00085805 0.00085383 0.00084405 0.0008381  0.00083514\n",
      " 0.00082893 0.00082807 0.00082239 0.00081496 0.00080729 0.00080052\n",
      " 0.00079706 0.00079563 0.0007883  0.00077887 0.00077307 0.00077012]\n",
      "Principal components (eigenvectors): [[ 7.79142891e-07 -3.89571437e-07 -3.89571453e-07 ...  2.02643962e-03\n",
      "  -6.47933806e-04 -3.24092868e-03]\n",
      " [-1.05741255e-06  5.28701850e-07  5.28710696e-07 ... -7.02758768e-03\n",
      "  -1.13086888e-02 -7.78281477e-04]\n",
      " [-9.36781733e-07  4.68391104e-07  4.68390629e-07 ...  9.06254212e-03\n",
      "  -1.37869135e-02  6.38217382e-03]\n",
      " ...\n",
      " [-4.52276505e-07  1.46635740e-07  3.05640765e-07 ...  6.84604473e-02\n",
      "  -1.69353300e-02 -2.26943351e-02]\n",
      " [-3.39836695e-08 -1.06789383e-08  4.46626077e-08 ... -3.29815719e-02\n",
      "  -1.39437101e-02  4.50833900e-02]\n",
      " [ 1.42572424e-06 -6.95265119e-07 -7.30459126e-07 ...  2.27635362e-02\n",
      "  -2.14346656e-02  9.61667253e-04]]\n"
     ]
    }
   ],
   "source": [
    "from sklearn.decomposition import PCA\n",
    "from sklearn.preprocessing import StandardScaler\n",
    "import pandas as pd\n",
    "\n",
    "dta_for_pca = df_numeric.drop(columns=['id','binds'])\n",
    "\n",
    "# Perform PCA\n",
    "pca = PCA(n_components = 300)  # Specify the number of components you want\n",
    "pca_result = pca.fit_transform(dta_for_pca)\n",
    "\n",
    "# Create a DataFrame to store the PCA results\n",
    "pca_df = pd.DataFrame(data=pca_result, columns=pc_list)\n",
    "\n",
    "# Optionally, you can access the explained variance ratio\n",
    "explained_variance_ratio = pca.explained_variance_ratio_\n",
    "print(\"Explained variance ratio:\", explained_variance_ratio)\n",
    "\n",
    "# Optionally, you can access the principal components (eigenvectors)\n",
    "principal_components = pca.components_\n",
    "print(\"Principal components (eigenvectors):\", principal_components)"
   ]
  },
  {
   "cell_type": "code",
   "execution_count": 23,
   "metadata": {},
   "outputs": [
    {
     "name": "stdout",
     "output_type": "stream",
     "text": [
      "Variance explained by the components: 84.33%\n"
     ]
    }
   ],
   "source": [
    "variance_explained = explained_variance_ratio[:300].sum()\n",
    "print(f\"Variance explained by the components: {variance_explained * 100:.2f}%\")"
   ]
  },
  {
   "cell_type": "code",
   "execution_count": null,
   "metadata": {},
   "outputs": [],
   "source": []
  },
  {
   "cell_type": "code",
   "execution_count": 24,
   "metadata": {},
   "outputs": [],
   "source": [
    "X = df_numeric.drop(columns=['id','binds'])\n",
    "y = df_numeric[['binds']]"
   ]
  },
  {
   "cell_type": "code",
   "execution_count": 12,
   "metadata": {},
   "outputs": [],
   "source": [
    "# Split the data into train and test sets\n",
    "X_train, X_test, y_train, y_test = train_test_split(X, y, test_size=0.2, random_state=42)"
   ]
  },
  {
   "cell_type": "code",
   "execution_count": 13,
   "metadata": {},
   "outputs": [
    {
     "name": "stdout",
     "output_type": "stream",
     "text": [
      "Index(['Protein: _BRD4', 'Protein: _HSA', 'Protein: _sEH', 'ecfp_1', 'ecfp_2',\n",
      "       'ecfp_3', 'ecfp_4', 'ecfp_5', 'ecfp_6', 'ecfp_7',\n",
      "       ...\n",
      "       'ecfp_1015', 'ecfp_1016', 'ecfp_1017', 'ecfp_1018', 'ecfp_1019',\n",
      "       'ecfp_1020', 'ecfp_1021', 'ecfp_1022', 'ecfp_1023', 'ecfp_1024'],\n",
      "      dtype='object', length=1027)\n"
     ]
    }
   ],
   "source": [
    "print(X_test.columns)"
   ]
  },
  {
   "cell_type": "code",
   "execution_count": 14,
   "metadata": {},
   "outputs": [
    {
     "name": "stdout",
     "output_type": "stream",
     "text": [
      "binds\n",
      "0        997424\n",
      "1          2576\n",
      "Name: count, dtype: int64\n"
     ]
    }
   ],
   "source": [
    "print(y.value_counts())"
   ]
  },
  {
   "cell_type": "code",
   "execution_count": 15,
   "metadata": {},
   "outputs": [
    {
     "name": "stderr",
     "output_type": "stream",
     "text": [
      "c:\\Users\\sageh\\AppData\\Local\\Programs\\Python\\Python312\\Lib\\site-packages\\keras\\src\\layers\\core\\dense.py:87: UserWarning: Do not pass an `input_shape`/`input_dim` argument to a layer. When using Sequential models, prefer using an `Input(shape)` object as the first layer in the model instead.\n",
      "  super().__init__(activity_regularizer=activity_regularizer, **kwargs)\n"
     ]
    },
    {
     "name": "stdout",
     "output_type": "stream",
     "text": [
      "Epoch 1/1000\n",
      "\u001b[1m20000/20000\u001b[0m \u001b[32m━━━━━━━━━━━━━━━━━━━━\u001b[0m\u001b[37m\u001b[0m \u001b[1m48s\u001b[0m 2ms/step - accuracy: 0.9972 - loss: 0.0249 - precision: 0.0548 - val_accuracy: 0.9975 - val_loss: 0.0291 - val_precision: 0.0000e+00\n",
      "Epoch 2/1000\n",
      "\u001b[1m20000/20000\u001b[0m \u001b[32m━━━━━━━━━━━━━━━━━━━━\u001b[0m\u001b[37m\u001b[0m \u001b[1m39s\u001b[0m 2ms/step - accuracy: 0.9972 - loss: 0.0241 - precision: 0.0000e+00 - val_accuracy: 0.9975 - val_loss: 0.0215 - val_precision: 0.0000e+00\n",
      "Epoch 3/1000\n",
      "\u001b[1m20000/20000\u001b[0m \u001b[32m━━━━━━━━━━━━━━━━━━━━\u001b[0m\u001b[37m\u001b[0m \u001b[1m39s\u001b[0m 2ms/step - accuracy: 0.9973 - loss: 0.0254 - precision: 0.0281 - val_accuracy: 0.9975 - val_loss: 0.0172 - val_precision: 0.0000e+00\n",
      "Epoch 4/1000\n",
      "\u001b[1m20000/20000\u001b[0m \u001b[32m━━━━━━━━━━━━━━━━━━━━\u001b[0m\u001b[37m\u001b[0m \u001b[1m38s\u001b[0m 2ms/step - accuracy: 0.9972 - loss: 0.0257 - precision: 0.0364 - val_accuracy: 0.9975 - val_loss: 0.0163 - val_precision: 0.0000e+00\n",
      "Epoch 5/1000\n",
      "\u001b[1m20000/20000\u001b[0m \u001b[32m━━━━━━━━━━━━━━━━━━━━\u001b[0m\u001b[37m\u001b[0m \u001b[1m38s\u001b[0m 2ms/step - accuracy: 0.9972 - loss: 0.0225 - precision: 0.0372 - val_accuracy: 0.9975 - val_loss: 0.0158 - val_precision: 0.0000e+00\n",
      "Epoch 6/1000\n",
      "\u001b[1m20000/20000\u001b[0m \u001b[32m━━━━━━━━━━━━━━━━━━━━\u001b[0m\u001b[37m\u001b[0m \u001b[1m38s\u001b[0m 2ms/step - accuracy: 0.9973 - loss: 0.0220 - precision: 0.0150 - val_accuracy: 0.9975 - val_loss: 0.0205 - val_precision: 0.0000e+00\n",
      "Epoch 7/1000\n",
      "\u001b[1m20000/20000\u001b[0m \u001b[32m━━━━━━━━━━━━━━━━━━━━\u001b[0m\u001b[37m\u001b[0m \u001b[1m38s\u001b[0m 2ms/step - accuracy: 0.9973 - loss: 0.0222 - precision: 0.0738 - val_accuracy: 0.9975 - val_loss: 0.0156 - val_precision: 0.0000e+00\n",
      "Epoch 8/1000\n",
      "\u001b[1m20000/20000\u001b[0m \u001b[32m━━━━━━━━━━━━━━━━━━━━\u001b[0m\u001b[37m\u001b[0m \u001b[1m38s\u001b[0m 2ms/step - accuracy: 0.9973 - loss: 0.0223 - precision: 0.1346 - val_accuracy: 0.9975 - val_loss: 0.0235 - val_precision: 0.0000e+00\n",
      "Epoch 9/1000\n",
      "\u001b[1m20000/20000\u001b[0m \u001b[32m━━━━━━━━━━━━━━━━━━━━\u001b[0m\u001b[37m\u001b[0m \u001b[1m38s\u001b[0m 2ms/step - accuracy: 0.9972 - loss: 0.0258 - precision: 0.0955 - val_accuracy: 0.9975 - val_loss: 0.0199 - val_precision: 0.0000e+00\n",
      "Epoch 10/1000\n",
      "\u001b[1m20000/20000\u001b[0m \u001b[32m━━━━━━━━━━━━━━━━━━━━\u001b[0m\u001b[37m\u001b[0m \u001b[1m38s\u001b[0m 2ms/step - accuracy: 0.9973 - loss: 0.0240 - precision: 0.0845 - val_accuracy: 0.9975 - val_loss: 0.0261 - val_precision: 0.0000e+00\n",
      "Epoch 11/1000\n",
      "\u001b[1m20000/20000\u001b[0m \u001b[32m━━━━━━━━━━━━━━━━━━━━\u001b[0m\u001b[37m\u001b[0m \u001b[1m38s\u001b[0m 2ms/step - accuracy: 0.9973 - loss: 0.0278 - precision: 0.1815 - val_accuracy: 0.9975 - val_loss: 0.0242 - val_precision: 0.0000e+00\n",
      "Epoch 12/1000\n",
      "\u001b[1m20000/20000\u001b[0m \u001b[32m━━━━━━━━━━━━━━━━━━━━\u001b[0m\u001b[37m\u001b[0m \u001b[1m38s\u001b[0m 2ms/step - accuracy: 0.9973 - loss: 0.0243 - precision: 0.1423 - val_accuracy: 0.9975 - val_loss: 0.0198 - val_precision: 0.0000e+00\n",
      "Epoch 13/1000\n",
      "\u001b[1m20000/20000\u001b[0m \u001b[32m━━━━━━━━━━━━━━━━━━━━\u001b[0m\u001b[37m\u001b[0m \u001b[1m38s\u001b[0m 2ms/step - accuracy: 0.9974 - loss: 0.0236 - precision: 0.0382 - val_accuracy: 0.9975 - val_loss: 0.0248 - val_precision: 0.0000e+00\n",
      "Epoch 14/1000\n",
      "\u001b[1m20000/20000\u001b[0m \u001b[32m━━━━━━━━━━━━━━━━━━━━\u001b[0m\u001b[37m\u001b[0m \u001b[1m38s\u001b[0m 2ms/step - accuracy: 0.9971 - loss: 0.0242 - precision: 0.0450 - val_accuracy: 0.9975 - val_loss: 0.0492 - val_precision: 0.0000e+00\n",
      "Epoch 15/1000\n",
      "\u001b[1m20000/20000\u001b[0m \u001b[32m━━━━━━━━━━━━━━━━━━━━\u001b[0m\u001b[37m\u001b[0m \u001b[1m38s\u001b[0m 2ms/step - accuracy: 0.9972 - loss: 0.0409 - precision: 0.1334 - val_accuracy: 0.9975 - val_loss: 0.0413 - val_precision: 0.0000e+00\n",
      "Epoch 16/1000\n",
      "\u001b[1m20000/20000\u001b[0m \u001b[32m━━━━━━━━━━━━━━━━━━━━\u001b[0m\u001b[37m\u001b[0m \u001b[1m38s\u001b[0m 2ms/step - accuracy: 0.9973 - loss: 0.0313 - precision: 0.2745 - val_accuracy: 0.9975 - val_loss: 0.0410 - val_precision: 0.0000e+00\n",
      "Epoch 17/1000\n",
      "\u001b[1m20000/20000\u001b[0m \u001b[32m━━━━━━━━━━━━━━━━━━━━\u001b[0m\u001b[37m\u001b[0m \u001b[1m38s\u001b[0m 2ms/step - accuracy: 0.9972 - loss: 0.0251 - precision: 0.0876 - val_accuracy: 0.9975 - val_loss: 0.1659 - val_precision: 0.0000e+00\n",
      "Epoch 18/1000\n",
      "\u001b[1m20000/20000\u001b[0m \u001b[32m━━━━━━━━━━━━━━━━━━━━\u001b[0m\u001b[37m\u001b[0m \u001b[1m38s\u001b[0m 2ms/step - accuracy: 0.9972 - loss: 0.0342 - precision: 0.1530 - val_accuracy: 0.9975 - val_loss: 0.0929 - val_precision: 0.0000e+00\n",
      "Epoch 19/1000\n",
      "\u001b[1m20000/20000\u001b[0m \u001b[32m━━━━━━━━━━━━━━━━━━━━\u001b[0m\u001b[37m\u001b[0m \u001b[1m38s\u001b[0m 2ms/step - accuracy: 0.9971 - loss: 0.0288 - precision: 0.1777 - val_accuracy: 0.9975 - val_loss: 0.0480 - val_precision: 0.0000e+00\n",
      "Epoch 20/1000\n",
      "\u001b[1m20000/20000\u001b[0m \u001b[32m━━━━━━━━━━━━━━━━━━━━\u001b[0m\u001b[37m\u001b[0m \u001b[1m38s\u001b[0m 2ms/step - accuracy: 0.9972 - loss: 0.0258 - precision: 0.1772 - val_accuracy: 0.9975 - val_loss: 0.0838 - val_precision: 0.0000e+00\n",
      "Epoch 21/1000\n",
      "\u001b[1m20000/20000\u001b[0m \u001b[32m━━━━━━━━━━━━━━━━━━━━\u001b[0m\u001b[37m\u001b[0m \u001b[1m38s\u001b[0m 2ms/step - accuracy: 0.9973 - loss: 0.0266 - precision: 0.0354 - val_accuracy: 0.9975 - val_loss: 0.1180 - val_precision: 0.0000e+00\n",
      "Epoch 22/1000\n",
      "\u001b[1m20000/20000\u001b[0m \u001b[32m━━━━━━━━━━━━━━━━━━━━\u001b[0m\u001b[37m\u001b[0m \u001b[1m38s\u001b[0m 2ms/step - accuracy: 0.9972 - loss: 0.0291 - precision: 0.0485 - val_accuracy: 0.9975 - val_loss: 0.0310 - val_precision: 0.0000e+00\n",
      "Epoch 23/1000\n",
      "\u001b[1m20000/20000\u001b[0m \u001b[32m━━━━━━━━━━━━━━━━━━━━\u001b[0m\u001b[37m\u001b[0m \u001b[1m38s\u001b[0m 2ms/step - accuracy: 0.9974 - loss: 0.0291 - precision: 0.0389 - val_accuracy: 0.9975 - val_loss: 0.0546 - val_precision: 0.0000e+00\n",
      "Epoch 24/1000\n",
      "\u001b[1m20000/20000\u001b[0m \u001b[32m━━━━━━━━━━━━━━━━━━━━\u001b[0m\u001b[37m\u001b[0m \u001b[1m38s\u001b[0m 2ms/step - accuracy: 0.9973 - loss: 0.0327 - precision: 0.0686 - val_accuracy: 0.9975 - val_loss: 0.0465 - val_precision: 0.0000e+00\n",
      "Epoch 25/1000\n",
      "\u001b[1m20000/20000\u001b[0m \u001b[32m━━━━━━━━━━━━━━━━━━━━\u001b[0m\u001b[37m\u001b[0m \u001b[1m38s\u001b[0m 2ms/step - accuracy: 0.9973 - loss: 0.0345 - precision: 0.1156 - val_accuracy: 0.9975 - val_loss: 0.0405 - val_precision: 0.0000e+00\n",
      "Epoch 26/1000\n",
      "\u001b[1m20000/20000\u001b[0m \u001b[32m━━━━━━━━━━━━━━━━━━━━\u001b[0m\u001b[37m\u001b[0m \u001b[1m38s\u001b[0m 2ms/step - accuracy: 0.9972 - loss: 0.0237 - precision: 0.1786 - val_accuracy: 0.9975 - val_loss: 0.0182 - val_precision: 0.0000e+00\n",
      "Epoch 27/1000\n",
      "\u001b[1m20000/20000\u001b[0m \u001b[32m━━━━━━━━━━━━━━━━━━━━\u001b[0m\u001b[37m\u001b[0m \u001b[1m38s\u001b[0m 2ms/step - accuracy: 0.9973 - loss: 0.0230 - precision: 0.0232 - val_accuracy: 0.9975 - val_loss: 0.0366 - val_precision: 0.0000e+00\n",
      "Epoch 28/1000\n",
      "\u001b[1m20000/20000\u001b[0m \u001b[32m━━━━━━━━━━━━━━━━━━━━\u001b[0m\u001b[37m\u001b[0m \u001b[1m38s\u001b[0m 2ms/step - accuracy: 0.9974 - loss: 0.0322 - precision: 0.1021 - val_accuracy: 0.9975 - val_loss: 0.0267 - val_precision: 0.0000e+00\n",
      "Epoch 29/1000\n",
      "\u001b[1m20000/20000\u001b[0m \u001b[32m━━━━━━━━━━━━━━━━━━━━\u001b[0m\u001b[37m\u001b[0m \u001b[1m38s\u001b[0m 2ms/step - accuracy: 0.9973 - loss: 0.0282 - precision: 0.0000e+00 - val_accuracy: 0.9975 - val_loss: 0.0484 - val_precision: 0.0000e+00\n",
      "Epoch 30/1000\n",
      "\u001b[1m20000/20000\u001b[0m \u001b[32m━━━━━━━━━━━━━━━━━━━━\u001b[0m\u001b[37m\u001b[0m \u001b[1m38s\u001b[0m 2ms/step - accuracy: 0.9974 - loss: 0.0494 - precision: 0.0000e+00 - val_accuracy: 0.9975 - val_loss: 0.1298 - val_precision: 0.0000e+00\n",
      "Epoch 31/1000\n",
      "\u001b[1m20000/20000\u001b[0m \u001b[32m━━━━━━━━━━━━━━━━━━━━\u001b[0m\u001b[37m\u001b[0m \u001b[1m38s\u001b[0m 2ms/step - accuracy: 0.9974 - loss: 0.0995 - precision: 0.0000e+00 - val_accuracy: 0.9975 - val_loss: 0.0177 - val_precision: 0.0000e+00\n",
      "Epoch 32/1000\n",
      "\u001b[1m20000/20000\u001b[0m \u001b[32m━━━━━━━━━━━━━━━━━━━━\u001b[0m\u001b[37m\u001b[0m \u001b[1m38s\u001b[0m 2ms/step - accuracy: 0.9974 - loss: 0.0315 - precision: 0.0000e+00 - val_accuracy: 0.9975 - val_loss: 0.0806 - val_precision: 0.0000e+00\n",
      "Epoch 33/1000\n",
      "\u001b[1m20000/20000\u001b[0m \u001b[32m━━━━━━━━━━━━━━━━━━━━\u001b[0m\u001b[37m\u001b[0m \u001b[1m38s\u001b[0m 2ms/step - accuracy: 0.9974 - loss: 0.0344 - precision: 0.0000e+00 - val_accuracy: 0.9975 - val_loss: 0.0185 - val_precision: 0.0000e+00\n",
      "Epoch 34/1000\n",
      "\u001b[1m20000/20000\u001b[0m \u001b[32m━━━━━━━━━━━━━━━━━━━━\u001b[0m\u001b[37m\u001b[0m \u001b[1m38s\u001b[0m 2ms/step - accuracy: 0.9974 - loss: 0.0304 - precision: 0.0000e+00 - val_accuracy: 0.9975 - val_loss: 0.0577 - val_precision: 0.0000e+00\n",
      "Epoch 35/1000\n",
      "\u001b[1m20000/20000\u001b[0m \u001b[32m━━━━━━━━━━━━━━━━━━━━\u001b[0m\u001b[37m\u001b[0m \u001b[1m38s\u001b[0m 2ms/step - accuracy: 0.9974 - loss: 0.0297 - precision: 0.0000e+00 - val_accuracy: 0.9975 - val_loss: 0.0178 - val_precision: 0.0000e+00\n",
      "Epoch 36/1000\n",
      "\u001b[1m20000/20000\u001b[0m \u001b[32m━━━━━━━━━━━━━━━━━━━━\u001b[0m\u001b[37m\u001b[0m \u001b[1m38s\u001b[0m 2ms/step - accuracy: 0.9974 - loss: 0.0283 - precision: 0.0000e+00 - val_accuracy: 0.9975 - val_loss: 0.0182 - val_precision: 0.0000e+00\n",
      "Epoch 37/1000\n",
      "\u001b[1m20000/20000\u001b[0m \u001b[32m━━━━━━━━━━━━━━━━━━━━\u001b[0m\u001b[37m\u001b[0m \u001b[1m38s\u001b[0m 2ms/step - accuracy: 0.9974 - loss: 0.0279 - precision: 0.0000e+00 - val_accuracy: 0.9975 - val_loss: 0.0176 - val_precision: 0.0000e+00\n",
      "Epoch 38/1000\n",
      "\u001b[1m20000/20000\u001b[0m \u001b[32m━━━━━━━━━━━━━━━━━━━━\u001b[0m\u001b[37m\u001b[0m \u001b[1m38s\u001b[0m 2ms/step - accuracy: 0.9973 - loss: 0.0279 - precision: 0.0000e+00 - val_accuracy: 0.9975 - val_loss: 0.0303 - val_precision: 0.0000e+00\n",
      "Epoch 39/1000\n",
      "\u001b[1m20000/20000\u001b[0m \u001b[32m━━━━━━━━━━━━━━━━━━━━\u001b[0m\u001b[37m\u001b[0m \u001b[1m38s\u001b[0m 2ms/step - accuracy: 0.9973 - loss: 0.0272 - precision: 0.0000e+00 - val_accuracy: 0.9975 - val_loss: 0.0244 - val_precision: 0.0000e+00\n",
      "Epoch 40/1000\n",
      "\u001b[1m20000/20000\u001b[0m \u001b[32m━━━━━━━━━━━━━━━━━━━━\u001b[0m\u001b[37m\u001b[0m \u001b[1m38s\u001b[0m 2ms/step - accuracy: 0.9973 - loss: 0.0340 - precision: 0.0000e+00 - val_accuracy: 0.9975 - val_loss: 0.0177 - val_precision: 0.0000e+00\n",
      "Epoch 41/1000\n",
      "\u001b[1m20000/20000\u001b[0m \u001b[32m━━━━━━━━━━━━━━━━━━━━\u001b[0m\u001b[37m\u001b[0m \u001b[1m38s\u001b[0m 2ms/step - accuracy: 0.9974 - loss: 0.0274 - precision: 0.0000e+00 - val_accuracy: 0.9975 - val_loss: 0.0222 - val_precision: 0.0000e+00\n",
      "Epoch 42/1000\n",
      "\u001b[1m20000/20000\u001b[0m \u001b[32m━━━━━━━━━━━━━━━━━━━━\u001b[0m\u001b[37m\u001b[0m \u001b[1m39s\u001b[0m 2ms/step - accuracy: 0.9973 - loss: 0.0311 - precision: 0.0000e+00 - val_accuracy: 0.9975 - val_loss: 0.0955 - val_precision: 0.0000e+00\n",
      "Epoch 43/1000\n",
      "\u001b[1m20000/20000\u001b[0m \u001b[32m━━━━━━━━━━━━━━━━━━━━\u001b[0m\u001b[37m\u001b[0m \u001b[1m39s\u001b[0m 2ms/step - accuracy: 0.9975 - loss: 0.0402 - precision: 0.0000e+00 - val_accuracy: 0.9975 - val_loss: 0.0257 - val_precision: 0.0000e+00\n",
      "Epoch 44/1000\n",
      "\u001b[1m20000/20000\u001b[0m \u001b[32m━━━━━━━━━━━━━━━━━━━━\u001b[0m\u001b[37m\u001b[0m \u001b[1m39s\u001b[0m 2ms/step - accuracy: 0.9973 - loss: 0.0514 - precision: 0.0000e+00 - val_accuracy: 0.9975 - val_loss: 0.0190 - val_precision: 0.0000e+00\n",
      "Epoch 45/1000\n",
      "\u001b[1m20000/20000\u001b[0m \u001b[32m━━━━━━━━━━━━━━━━━━━━\u001b[0m\u001b[37m\u001b[0m \u001b[1m38s\u001b[0m 2ms/step - accuracy: 0.9974 - loss: 0.0286 - precision: 0.0000e+00 - val_accuracy: 0.9975 - val_loss: 0.0176 - val_precision: 0.0000e+00\n",
      "Epoch 46/1000\n",
      "\u001b[1m20000/20000\u001b[0m \u001b[32m━━━━━━━━━━━━━━━━━━━━\u001b[0m\u001b[37m\u001b[0m \u001b[1m38s\u001b[0m 2ms/step - accuracy: 0.9973 - loss: 0.0265 - precision: 0.0000e+00 - val_accuracy: 0.9975 - val_loss: 0.2467 - val_precision: 0.0000e+00\n",
      "Epoch 47/1000\n",
      "\u001b[1m20000/20000\u001b[0m \u001b[32m━━━━━━━━━━━━━━━━━━━━\u001b[0m\u001b[37m\u001b[0m \u001b[1m38s\u001b[0m 2ms/step - accuracy: 0.9972 - loss: 0.0346 - precision: 0.0000e+00 - val_accuracy: 0.9975 - val_loss: 0.0176 - val_precision: 0.0000e+00\n",
      "Epoch 48/1000\n",
      "\u001b[1m20000/20000\u001b[0m \u001b[32m━━━━━━━━━━━━━━━━━━━━\u001b[0m\u001b[37m\u001b[0m \u001b[1m38s\u001b[0m 2ms/step - accuracy: 0.9972 - loss: 0.0284 - precision: 0.0000e+00 - val_accuracy: 0.9975 - val_loss: 0.0184 - val_precision: 0.0000e+00\n",
      "Epoch 49/1000\n",
      "\u001b[1m20000/20000\u001b[0m \u001b[32m━━━━━━━━━━━━━━━━━━━━\u001b[0m\u001b[37m\u001b[0m \u001b[1m38s\u001b[0m 2ms/step - accuracy: 0.9972 - loss: 0.0715 - precision: 0.0000e+00 - val_accuracy: 0.9975 - val_loss: 0.0271 - val_precision: 0.0000e+00\n",
      "Epoch 50/1000\n",
      "\u001b[1m20000/20000\u001b[0m \u001b[32m━━━━━━━━━━━━━━━━━━━━\u001b[0m\u001b[37m\u001b[0m \u001b[1m38s\u001b[0m 2ms/step - accuracy: 0.9974 - loss: 0.0260 - precision: 0.0000e+00 - val_accuracy: 0.9975 - val_loss: 0.0176 - val_precision: 0.0000e+00\n",
      "Epoch 51/1000\n",
      "\u001b[1m20000/20000\u001b[0m \u001b[32m━━━━━━━━━━━━━━━━━━━━\u001b[0m\u001b[37m\u001b[0m \u001b[1m38s\u001b[0m 2ms/step - accuracy: 0.9974 - loss: 0.0239 - precision: 0.0000e+00 - val_accuracy: 0.9975 - val_loss: 0.0176 - val_precision: 0.0000e+00\n",
      "Epoch 52/1000\n",
      "\u001b[1m20000/20000\u001b[0m \u001b[32m━━━━━━━━━━━━━━━━━━━━\u001b[0m\u001b[37m\u001b[0m \u001b[1m38s\u001b[0m 2ms/step - accuracy: 0.9974 - loss: 0.0299 - precision: 0.0000e+00 - val_accuracy: 0.9975 - val_loss: 0.1565 - val_precision: 0.0000e+00\n",
      "Epoch 53/1000\n",
      "\u001b[1m20000/20000\u001b[0m \u001b[32m━━━━━━━━━━━━━━━━━━━━\u001b[0m\u001b[37m\u001b[0m \u001b[1m38s\u001b[0m 2ms/step - accuracy: 0.9973 - loss: 0.0474 - precision: 0.0000e+00 - val_accuracy: 0.9975 - val_loss: 0.0176 - val_precision: 0.0000e+00\n",
      "Epoch 54/1000\n",
      "\u001b[1m20000/20000\u001b[0m \u001b[32m━━━━━━━━━━━━━━━━━━━━\u001b[0m\u001b[37m\u001b[0m \u001b[1m38s\u001b[0m 2ms/step - accuracy: 0.9973 - loss: 0.0363 - precision: 0.0000e+00 - val_accuracy: 0.9975 - val_loss: 0.0176 - val_precision: 0.0000e+00\n",
      "Epoch 55/1000\n",
      "\u001b[1m20000/20000\u001b[0m \u001b[32m━━━━━━━━━━━━━━━━━━━━\u001b[0m\u001b[37m\u001b[0m \u001b[1m38s\u001b[0m 2ms/step - accuracy: 0.9974 - loss: 0.0212 - precision: 0.0000e+00 - val_accuracy: 0.9975 - val_loss: 0.0268 - val_precision: 0.0000e+00\n",
      "Epoch 56/1000\n",
      "\u001b[1m20000/20000\u001b[0m \u001b[32m━━━━━━━━━━━━━━━━━━━━\u001b[0m\u001b[37m\u001b[0m \u001b[1m38s\u001b[0m 2ms/step - accuracy: 0.9973 - loss: 0.0258 - precision: 0.0000e+00 - val_accuracy: 0.9975 - val_loss: 0.0176 - val_precision: 0.0000e+00\n",
      "Epoch 57/1000\n",
      "\u001b[1m20000/20000\u001b[0m \u001b[32m━━━━━━━━━━━━━━━━━━━━\u001b[0m\u001b[37m\u001b[0m \u001b[1m38s\u001b[0m 2ms/step - accuracy: 0.9974 - loss: 0.0469 - precision: 0.0000e+00 - val_accuracy: 0.9975 - val_loss: 0.0176 - val_precision: 0.0000e+00\n",
      "Epoch 58/1000\n",
      "\u001b[1m20000/20000\u001b[0m \u001b[32m━━━━━━━━━━━━━━━━━━━━\u001b[0m\u001b[37m\u001b[0m \u001b[1m38s\u001b[0m 2ms/step - accuracy: 0.9974 - loss: 0.0229 - precision: 0.0000e+00 - val_accuracy: 0.9975 - val_loss: 0.0560 - val_precision: 0.0000e+00\n",
      "Epoch 59/1000\n",
      "\u001b[1m20000/20000\u001b[0m \u001b[32m━━━━━━━━━━━━━━━━━━━━\u001b[0m\u001b[37m\u001b[0m \u001b[1m38s\u001b[0m 2ms/step - accuracy: 0.9974 - loss: 0.0308 - precision: 0.0000e+00 - val_accuracy: 0.9975 - val_loss: 0.0777 - val_precision: 0.0000e+00\n",
      "Epoch 60/1000\n",
      "\u001b[1m20000/20000\u001b[0m \u001b[32m━━━━━━━━━━━━━━━━━━━━\u001b[0m\u001b[37m\u001b[0m \u001b[1m38s\u001b[0m 2ms/step - accuracy: 0.9975 - loss: 0.0292 - precision: 0.0000e+00 - val_accuracy: 0.9975 - val_loss: 0.0176 - val_precision: 0.0000e+00\n",
      "Epoch 61/1000\n",
      "\u001b[1m20000/20000\u001b[0m \u001b[32m━━━━━━━━━━━━━━━━━━━━\u001b[0m\u001b[37m\u001b[0m \u001b[1m38s\u001b[0m 2ms/step - accuracy: 0.9973 - loss: 0.0267 - precision: 0.0000e+00 - val_accuracy: 0.9975 - val_loss: 0.0281 - val_precision: 0.0000e+00\n",
      "Epoch 62/1000\n",
      "\u001b[1m20000/20000\u001b[0m \u001b[32m━━━━━━━━━━━━━━━━━━━━\u001b[0m\u001b[37m\u001b[0m \u001b[1m38s\u001b[0m 2ms/step - accuracy: 0.9973 - loss: 0.0450 - precision: 0.0000e+00 - val_accuracy: 0.9975 - val_loss: 0.0176 - val_precision: 0.0000e+00\n",
      "Epoch 63/1000\n",
      "\u001b[1m20000/20000\u001b[0m \u001b[32m━━━━━━━━━━━━━━━━━━━━\u001b[0m\u001b[37m\u001b[0m \u001b[1m38s\u001b[0m 2ms/step - accuracy: 0.9973 - loss: 0.0414 - precision: 0.0000e+00 - val_accuracy: 0.9975 - val_loss: 0.0507 - val_precision: 0.0000e+00\n",
      "Epoch 64/1000\n",
      "\u001b[1m20000/20000\u001b[0m \u001b[32m━━━━━━━━━━━━━━━━━━━━\u001b[0m\u001b[37m\u001b[0m \u001b[1m39s\u001b[0m 2ms/step - accuracy: 0.9973 - loss: 0.0357 - precision: 0.0000e+00 - val_accuracy: 0.9975 - val_loss: 0.0176 - val_precision: 0.0000e+00\n",
      "Epoch 65/1000\n",
      "\u001b[1m20000/20000\u001b[0m \u001b[32m━━━━━━━━━━━━━━━━━━━━\u001b[0m\u001b[37m\u001b[0m \u001b[1m39s\u001b[0m 2ms/step - accuracy: 0.9973 - loss: 0.0246 - precision: 0.0000e+00 - val_accuracy: 0.9975 - val_loss: 0.0176 - val_precision: 0.0000e+00\n",
      "Epoch 66/1000\n",
      "\u001b[1m20000/20000\u001b[0m \u001b[32m━━━━━━━━━━━━━━━━━━━━\u001b[0m\u001b[37m\u001b[0m \u001b[1m39s\u001b[0m 2ms/step - accuracy: 0.9974 - loss: 0.0263 - precision: 0.0000e+00 - val_accuracy: 0.9975 - val_loss: 0.0176 - val_precision: 0.0000e+00\n",
      "Epoch 67/1000\n",
      "\u001b[1m20000/20000\u001b[0m \u001b[32m━━━━━━━━━━━━━━━━━━━━\u001b[0m\u001b[37m\u001b[0m \u001b[1m39s\u001b[0m 2ms/step - accuracy: 0.9974 - loss: 0.0560 - precision: 0.0000e+00 - val_accuracy: 0.9975 - val_loss: 0.0225 - val_precision: 0.0000e+00\n",
      "Epoch 68/1000\n",
      "\u001b[1m20000/20000\u001b[0m \u001b[32m━━━━━━━━━━━━━━━━━━━━\u001b[0m\u001b[37m\u001b[0m \u001b[1m38s\u001b[0m 2ms/step - accuracy: 0.9974 - loss: 0.0405 - precision: 0.0000e+00 - val_accuracy: 0.9975 - val_loss: 0.0176 - val_precision: 0.0000e+00\n",
      "Epoch 69/1000\n",
      "\u001b[1m20000/20000\u001b[0m \u001b[32m━━━━━━━━━━━━━━━━━━━━\u001b[0m\u001b[37m\u001b[0m \u001b[1m38s\u001b[0m 2ms/step - accuracy: 0.9974 - loss: 0.0400 - precision: 0.0000e+00 - val_accuracy: 0.9975 - val_loss: 0.0176 - val_precision: 0.0000e+00\n",
      "Epoch 70/1000\n",
      "\u001b[1m20000/20000\u001b[0m \u001b[32m━━━━━━━━━━━━━━━━━━━━\u001b[0m\u001b[37m\u001b[0m \u001b[1m38s\u001b[0m 2ms/step - accuracy: 0.9974 - loss: 0.0269 - precision: 0.0000e+00 - val_accuracy: 0.9975 - val_loss: 0.0176 - val_precision: 0.0000e+00\n",
      "Epoch 71/1000\n",
      "\u001b[1m20000/20000\u001b[0m \u001b[32m━━━━━━━━━━━━━━━━━━━━\u001b[0m\u001b[37m\u001b[0m \u001b[1m38s\u001b[0m 2ms/step - accuracy: 0.9973 - loss: 0.0537 - precision: 0.0000e+00 - val_accuracy: 0.9975 - val_loss: 0.3020 - val_precision: 0.0000e+00\n",
      "Epoch 72/1000\n",
      "\u001b[1m20000/20000\u001b[0m \u001b[32m━━━━━━━━━━━━━━━━━━━━\u001b[0m\u001b[37m\u001b[0m \u001b[1m39s\u001b[0m 2ms/step - accuracy: 0.9973 - loss: 0.0643 - precision: 0.0000e+00 - val_accuracy: 0.9975 - val_loss: 0.0176 - val_precision: 0.0000e+00\n",
      "Epoch 73/1000\n",
      "\u001b[1m20000/20000\u001b[0m \u001b[32m━━━━━━━━━━━━━━━━━━━━\u001b[0m\u001b[37m\u001b[0m \u001b[1m39s\u001b[0m 2ms/step - accuracy: 0.9974 - loss: 0.0781 - precision: 0.0000e+00 - val_accuracy: 0.9975 - val_loss: 0.0176 - val_precision: 0.0000e+00\n",
      "Epoch 74/1000\n",
      "\u001b[1m 4504/20000\u001b[0m \u001b[32m━━━━\u001b[0m\u001b[37m━━━━━━━━━━━━━━━━\u001b[0m \u001b[1m27s\u001b[0m 2ms/step - accuracy: 0.9973 - loss: 0.0184 - precision: 0.0000e+00"
     ]
    },
    {
     "ename": "KeyboardInterrupt",
     "evalue": "",
     "output_type": "error",
     "traceback": [
      "\u001b[1;31m---------------------------------------------------------------------------\u001b[0m",
      "\u001b[1;31mKeyboardInterrupt\u001b[0m                         Traceback (most recent call last)",
      "Cell \u001b[1;32mIn[15], line 25\u001b[0m\n\u001b[0;32m     20\u001b[0m model\u001b[38;5;241m.\u001b[39mcompile(optimizer\u001b[38;5;241m=\u001b[39mAdam(learning_rate\u001b[38;5;241m=\u001b[39m\u001b[38;5;241m0.001\u001b[39m), \n\u001b[0;32m     21\u001b[0m               loss\u001b[38;5;241m=\u001b[39m\u001b[38;5;124m'\u001b[39m\u001b[38;5;124mbinary_crossentropy\u001b[39m\u001b[38;5;124m'\u001b[39m, \n\u001b[0;32m     22\u001b[0m               metrics\u001b[38;5;241m=\u001b[39m[\u001b[38;5;124m'\u001b[39m\u001b[38;5;124maccuracy\u001b[39m\u001b[38;5;124m'\u001b[39m, Precision()])\n\u001b[0;32m     24\u001b[0m \u001b[38;5;66;03m# 5. Train the Model\u001b[39;00m\n\u001b[1;32m---> 25\u001b[0m history \u001b[38;5;241m=\u001b[39m \u001b[43mmodel\u001b[49m\u001b[38;5;241;43m.\u001b[39;49m\u001b[43mfit\u001b[49m\u001b[43m(\u001b[49m\u001b[43mX_train\u001b[49m\u001b[43m,\u001b[49m\u001b[43m \u001b[49m\u001b[43my_train\u001b[49m\u001b[43m,\u001b[49m\u001b[43m \u001b[49m\n\u001b[0;32m     26\u001b[0m \u001b[43m                    \u001b[49m\u001b[43mvalidation_split\u001b[49m\u001b[38;5;241;43m=\u001b[39;49m\u001b[38;5;241;43m0.2\u001b[39;49m\u001b[43m,\u001b[49m\u001b[43m \u001b[49m\n\u001b[0;32m     27\u001b[0m \u001b[43m                    \u001b[49m\u001b[43mepochs\u001b[49m\u001b[38;5;241;43m=\u001b[39;49m\u001b[38;5;241;43m1000\u001b[39;49m\u001b[43m,\u001b[49m\u001b[43m \u001b[49m\n\u001b[0;32m     28\u001b[0m \u001b[43m                    \u001b[49m\u001b[43mbatch_size\u001b[49m\u001b[38;5;241;43m=\u001b[39;49m\u001b[38;5;241;43m32\u001b[39;49m\u001b[43m)\u001b[49m\n\u001b[0;32m     30\u001b[0m \u001b[38;5;66;03m# 6. Evaluate the Model\u001b[39;00m\n\u001b[0;32m     31\u001b[0m loss, accuracy, precision \u001b[38;5;241m=\u001b[39m model\u001b[38;5;241m.\u001b[39mevaluate(X_test, y_test)\n",
      "File \u001b[1;32mc:\\Users\\sageh\\AppData\\Local\\Programs\\Python\\Python312\\Lib\\site-packages\\keras\\src\\utils\\traceback_utils.py:117\u001b[0m, in \u001b[0;36mfilter_traceback.<locals>.error_handler\u001b[1;34m(*args, **kwargs)\u001b[0m\n\u001b[0;32m    115\u001b[0m filtered_tb \u001b[38;5;241m=\u001b[39m \u001b[38;5;28;01mNone\u001b[39;00m\n\u001b[0;32m    116\u001b[0m \u001b[38;5;28;01mtry\u001b[39;00m:\n\u001b[1;32m--> 117\u001b[0m     \u001b[38;5;28;01mreturn\u001b[39;00m \u001b[43mfn\u001b[49m\u001b[43m(\u001b[49m\u001b[38;5;241;43m*\u001b[39;49m\u001b[43margs\u001b[49m\u001b[43m,\u001b[49m\u001b[43m \u001b[49m\u001b[38;5;241;43m*\u001b[39;49m\u001b[38;5;241;43m*\u001b[39;49m\u001b[43mkwargs\u001b[49m\u001b[43m)\u001b[49m\n\u001b[0;32m    118\u001b[0m \u001b[38;5;28;01mexcept\u001b[39;00m \u001b[38;5;167;01mException\u001b[39;00m \u001b[38;5;28;01mas\u001b[39;00m e:\n\u001b[0;32m    119\u001b[0m     filtered_tb \u001b[38;5;241m=\u001b[39m _process_traceback_frames(e\u001b[38;5;241m.\u001b[39m__traceback__)\n",
      "File \u001b[1;32mc:\\Users\\sageh\\AppData\\Local\\Programs\\Python\\Python312\\Lib\\site-packages\\keras\\src\\backend\\tensorflow\\trainer.py:314\u001b[0m, in \u001b[0;36mTensorFlowTrainer.fit\u001b[1;34m(self, x, y, batch_size, epochs, verbose, callbacks, validation_split, validation_data, shuffle, class_weight, sample_weight, initial_epoch, steps_per_epoch, validation_steps, validation_batch_size, validation_freq)\u001b[0m\n\u001b[0;32m    312\u001b[0m \u001b[38;5;28;01mfor\u001b[39;00m step, iterator \u001b[38;5;129;01min\u001b[39;00m epoch_iterator\u001b[38;5;241m.\u001b[39menumerate_epoch():\n\u001b[0;32m    313\u001b[0m     callbacks\u001b[38;5;241m.\u001b[39mon_train_batch_begin(step)\n\u001b[1;32m--> 314\u001b[0m     logs \u001b[38;5;241m=\u001b[39m \u001b[38;5;28;43mself\u001b[39;49m\u001b[38;5;241;43m.\u001b[39;49m\u001b[43mtrain_function\u001b[49m\u001b[43m(\u001b[49m\u001b[43miterator\u001b[49m\u001b[43m)\u001b[49m\n\u001b[0;32m    315\u001b[0m     logs \u001b[38;5;241m=\u001b[39m \u001b[38;5;28mself\u001b[39m\u001b[38;5;241m.\u001b[39m_pythonify_logs(logs)\n\u001b[0;32m    316\u001b[0m     callbacks\u001b[38;5;241m.\u001b[39mon_train_batch_end(step, logs)\n",
      "File \u001b[1;32mc:\\Users\\sageh\\AppData\\Local\\Programs\\Python\\Python312\\Lib\\site-packages\\tensorflow\\python\\util\\traceback_utils.py:150\u001b[0m, in \u001b[0;36mfilter_traceback.<locals>.error_handler\u001b[1;34m(*args, **kwargs)\u001b[0m\n\u001b[0;32m    148\u001b[0m filtered_tb \u001b[38;5;241m=\u001b[39m \u001b[38;5;28;01mNone\u001b[39;00m\n\u001b[0;32m    149\u001b[0m \u001b[38;5;28;01mtry\u001b[39;00m:\n\u001b[1;32m--> 150\u001b[0m   \u001b[38;5;28;01mreturn\u001b[39;00m \u001b[43mfn\u001b[49m\u001b[43m(\u001b[49m\u001b[38;5;241;43m*\u001b[39;49m\u001b[43margs\u001b[49m\u001b[43m,\u001b[49m\u001b[43m \u001b[49m\u001b[38;5;241;43m*\u001b[39;49m\u001b[38;5;241;43m*\u001b[39;49m\u001b[43mkwargs\u001b[49m\u001b[43m)\u001b[49m\n\u001b[0;32m    151\u001b[0m \u001b[38;5;28;01mexcept\u001b[39;00m \u001b[38;5;167;01mException\u001b[39;00m \u001b[38;5;28;01mas\u001b[39;00m e:\n\u001b[0;32m    152\u001b[0m   filtered_tb \u001b[38;5;241m=\u001b[39m _process_traceback_frames(e\u001b[38;5;241m.\u001b[39m__traceback__)\n",
      "File \u001b[1;32mc:\\Users\\sageh\\AppData\\Local\\Programs\\Python\\Python312\\Lib\\site-packages\\tensorflow\\python\\eager\\polymorphic_function\\polymorphic_function.py:833\u001b[0m, in \u001b[0;36mFunction.__call__\u001b[1;34m(self, *args, **kwds)\u001b[0m\n\u001b[0;32m    830\u001b[0m compiler \u001b[38;5;241m=\u001b[39m \u001b[38;5;124m\"\u001b[39m\u001b[38;5;124mxla\u001b[39m\u001b[38;5;124m\"\u001b[39m \u001b[38;5;28;01mif\u001b[39;00m \u001b[38;5;28mself\u001b[39m\u001b[38;5;241m.\u001b[39m_jit_compile \u001b[38;5;28;01melse\u001b[39;00m \u001b[38;5;124m\"\u001b[39m\u001b[38;5;124mnonXla\u001b[39m\u001b[38;5;124m\"\u001b[39m\n\u001b[0;32m    832\u001b[0m \u001b[38;5;28;01mwith\u001b[39;00m OptionalXlaContext(\u001b[38;5;28mself\u001b[39m\u001b[38;5;241m.\u001b[39m_jit_compile):\n\u001b[1;32m--> 833\u001b[0m   result \u001b[38;5;241m=\u001b[39m \u001b[38;5;28;43mself\u001b[39;49m\u001b[38;5;241;43m.\u001b[39;49m\u001b[43m_call\u001b[49m\u001b[43m(\u001b[49m\u001b[38;5;241;43m*\u001b[39;49m\u001b[43margs\u001b[49m\u001b[43m,\u001b[49m\u001b[43m \u001b[49m\u001b[38;5;241;43m*\u001b[39;49m\u001b[38;5;241;43m*\u001b[39;49m\u001b[43mkwds\u001b[49m\u001b[43m)\u001b[49m\n\u001b[0;32m    835\u001b[0m new_tracing_count \u001b[38;5;241m=\u001b[39m \u001b[38;5;28mself\u001b[39m\u001b[38;5;241m.\u001b[39mexperimental_get_tracing_count()\n\u001b[0;32m    836\u001b[0m without_tracing \u001b[38;5;241m=\u001b[39m (tracing_count \u001b[38;5;241m==\u001b[39m new_tracing_count)\n",
      "File \u001b[1;32mc:\\Users\\sageh\\AppData\\Local\\Programs\\Python\\Python312\\Lib\\site-packages\\tensorflow\\python\\eager\\polymorphic_function\\polymorphic_function.py:878\u001b[0m, in \u001b[0;36mFunction._call\u001b[1;34m(self, *args, **kwds)\u001b[0m\n\u001b[0;32m    875\u001b[0m \u001b[38;5;28mself\u001b[39m\u001b[38;5;241m.\u001b[39m_lock\u001b[38;5;241m.\u001b[39mrelease()\n\u001b[0;32m    876\u001b[0m \u001b[38;5;66;03m# In this case we have not created variables on the first call. So we can\u001b[39;00m\n\u001b[0;32m    877\u001b[0m \u001b[38;5;66;03m# run the first trace but we should fail if variables are created.\u001b[39;00m\n\u001b[1;32m--> 878\u001b[0m results \u001b[38;5;241m=\u001b[39m \u001b[43mtracing_compilation\u001b[49m\u001b[38;5;241;43m.\u001b[39;49m\u001b[43mcall_function\u001b[49m\u001b[43m(\u001b[49m\n\u001b[0;32m    879\u001b[0m \u001b[43m    \u001b[49m\u001b[43margs\u001b[49m\u001b[43m,\u001b[49m\u001b[43m \u001b[49m\u001b[43mkwds\u001b[49m\u001b[43m,\u001b[49m\u001b[43m \u001b[49m\u001b[38;5;28;43mself\u001b[39;49m\u001b[38;5;241;43m.\u001b[39;49m\u001b[43m_variable_creation_config\u001b[49m\n\u001b[0;32m    880\u001b[0m \u001b[43m\u001b[49m\u001b[43m)\u001b[49m\n\u001b[0;32m    881\u001b[0m \u001b[38;5;28;01mif\u001b[39;00m \u001b[38;5;28mself\u001b[39m\u001b[38;5;241m.\u001b[39m_created_variables:\n\u001b[0;32m    882\u001b[0m   \u001b[38;5;28;01mraise\u001b[39;00m \u001b[38;5;167;01mValueError\u001b[39;00m(\u001b[38;5;124m\"\u001b[39m\u001b[38;5;124mCreating variables on a non-first call to a function\u001b[39m\u001b[38;5;124m\"\u001b[39m\n\u001b[0;32m    883\u001b[0m                    \u001b[38;5;124m\"\u001b[39m\u001b[38;5;124m decorated with tf.function.\u001b[39m\u001b[38;5;124m\"\u001b[39m)\n",
      "File \u001b[1;32mc:\\Users\\sageh\\AppData\\Local\\Programs\\Python\\Python312\\Lib\\site-packages\\tensorflow\\python\\eager\\polymorphic_function\\tracing_compilation.py:139\u001b[0m, in \u001b[0;36mcall_function\u001b[1;34m(args, kwargs, tracing_options)\u001b[0m\n\u001b[0;32m    137\u001b[0m bound_args \u001b[38;5;241m=\u001b[39m function\u001b[38;5;241m.\u001b[39mfunction_type\u001b[38;5;241m.\u001b[39mbind(\u001b[38;5;241m*\u001b[39margs, \u001b[38;5;241m*\u001b[39m\u001b[38;5;241m*\u001b[39mkwargs)\n\u001b[0;32m    138\u001b[0m flat_inputs \u001b[38;5;241m=\u001b[39m function\u001b[38;5;241m.\u001b[39mfunction_type\u001b[38;5;241m.\u001b[39munpack_inputs(bound_args)\n\u001b[1;32m--> 139\u001b[0m \u001b[38;5;28;01mreturn\u001b[39;00m \u001b[43mfunction\u001b[49m\u001b[38;5;241;43m.\u001b[39;49m\u001b[43m_call_flat\u001b[49m\u001b[43m(\u001b[49m\u001b[43m  \u001b[49m\u001b[38;5;66;43;03m# pylint: disable=protected-access\u001b[39;49;00m\n\u001b[0;32m    140\u001b[0m \u001b[43m    \u001b[49m\u001b[43mflat_inputs\u001b[49m\u001b[43m,\u001b[49m\u001b[43m \u001b[49m\u001b[43mcaptured_inputs\u001b[49m\u001b[38;5;241;43m=\u001b[39;49m\u001b[43mfunction\u001b[49m\u001b[38;5;241;43m.\u001b[39;49m\u001b[43mcaptured_inputs\u001b[49m\n\u001b[0;32m    141\u001b[0m \u001b[43m\u001b[49m\u001b[43m)\u001b[49m\n",
      "File \u001b[1;32mc:\\Users\\sageh\\AppData\\Local\\Programs\\Python\\Python312\\Lib\\site-packages\\tensorflow\\python\\eager\\polymorphic_function\\concrete_function.py:1322\u001b[0m, in \u001b[0;36mConcreteFunction._call_flat\u001b[1;34m(self, tensor_inputs, captured_inputs)\u001b[0m\n\u001b[0;32m   1318\u001b[0m possible_gradient_type \u001b[38;5;241m=\u001b[39m gradients_util\u001b[38;5;241m.\u001b[39mPossibleTapeGradientTypes(args)\n\u001b[0;32m   1319\u001b[0m \u001b[38;5;28;01mif\u001b[39;00m (possible_gradient_type \u001b[38;5;241m==\u001b[39m gradients_util\u001b[38;5;241m.\u001b[39mPOSSIBLE_GRADIENT_TYPES_NONE\n\u001b[0;32m   1320\u001b[0m     \u001b[38;5;129;01mand\u001b[39;00m executing_eagerly):\n\u001b[0;32m   1321\u001b[0m   \u001b[38;5;66;03m# No tape is watching; skip to running the function.\u001b[39;00m\n\u001b[1;32m-> 1322\u001b[0m   \u001b[38;5;28;01mreturn\u001b[39;00m \u001b[38;5;28;43mself\u001b[39;49m\u001b[38;5;241;43m.\u001b[39;49m\u001b[43m_inference_function\u001b[49m\u001b[38;5;241;43m.\u001b[39;49m\u001b[43mcall_preflattened\u001b[49m\u001b[43m(\u001b[49m\u001b[43margs\u001b[49m\u001b[43m)\u001b[49m\n\u001b[0;32m   1323\u001b[0m forward_backward \u001b[38;5;241m=\u001b[39m \u001b[38;5;28mself\u001b[39m\u001b[38;5;241m.\u001b[39m_select_forward_and_backward_functions(\n\u001b[0;32m   1324\u001b[0m     args,\n\u001b[0;32m   1325\u001b[0m     possible_gradient_type,\n\u001b[0;32m   1326\u001b[0m     executing_eagerly)\n\u001b[0;32m   1327\u001b[0m forward_function, args_with_tangents \u001b[38;5;241m=\u001b[39m forward_backward\u001b[38;5;241m.\u001b[39mforward()\n",
      "File \u001b[1;32mc:\\Users\\sageh\\AppData\\Local\\Programs\\Python\\Python312\\Lib\\site-packages\\tensorflow\\python\\eager\\polymorphic_function\\atomic_function.py:216\u001b[0m, in \u001b[0;36mAtomicFunction.call_preflattened\u001b[1;34m(self, args)\u001b[0m\n\u001b[0;32m    214\u001b[0m \u001b[38;5;28;01mdef\u001b[39;00m \u001b[38;5;21mcall_preflattened\u001b[39m(\u001b[38;5;28mself\u001b[39m, args: Sequence[core\u001b[38;5;241m.\u001b[39mTensor]) \u001b[38;5;241m-\u001b[39m\u001b[38;5;241m>\u001b[39m Any:\n\u001b[0;32m    215\u001b[0m \u001b[38;5;250m  \u001b[39m\u001b[38;5;124;03m\"\"\"Calls with flattened tensor inputs and returns the structured output.\"\"\"\u001b[39;00m\n\u001b[1;32m--> 216\u001b[0m   flat_outputs \u001b[38;5;241m=\u001b[39m \u001b[38;5;28;43mself\u001b[39;49m\u001b[38;5;241;43m.\u001b[39;49m\u001b[43mcall_flat\u001b[49m\u001b[43m(\u001b[49m\u001b[38;5;241;43m*\u001b[39;49m\u001b[43margs\u001b[49m\u001b[43m)\u001b[49m\n\u001b[0;32m    217\u001b[0m   \u001b[38;5;28;01mreturn\u001b[39;00m \u001b[38;5;28mself\u001b[39m\u001b[38;5;241m.\u001b[39mfunction_type\u001b[38;5;241m.\u001b[39mpack_output(flat_outputs)\n",
      "File \u001b[1;32mc:\\Users\\sageh\\AppData\\Local\\Programs\\Python\\Python312\\Lib\\site-packages\\tensorflow\\python\\eager\\polymorphic_function\\atomic_function.py:251\u001b[0m, in \u001b[0;36mAtomicFunction.call_flat\u001b[1;34m(self, *args)\u001b[0m\n\u001b[0;32m    249\u001b[0m \u001b[38;5;28;01mwith\u001b[39;00m record\u001b[38;5;241m.\u001b[39mstop_recording():\n\u001b[0;32m    250\u001b[0m   \u001b[38;5;28;01mif\u001b[39;00m \u001b[38;5;28mself\u001b[39m\u001b[38;5;241m.\u001b[39m_bound_context\u001b[38;5;241m.\u001b[39mexecuting_eagerly():\n\u001b[1;32m--> 251\u001b[0m     outputs \u001b[38;5;241m=\u001b[39m \u001b[38;5;28;43mself\u001b[39;49m\u001b[38;5;241;43m.\u001b[39;49m\u001b[43m_bound_context\u001b[49m\u001b[38;5;241;43m.\u001b[39;49m\u001b[43mcall_function\u001b[49m\u001b[43m(\u001b[49m\n\u001b[0;32m    252\u001b[0m \u001b[43m        \u001b[49m\u001b[38;5;28;43mself\u001b[39;49m\u001b[38;5;241;43m.\u001b[39;49m\u001b[43mname\u001b[49m\u001b[43m,\u001b[49m\n\u001b[0;32m    253\u001b[0m \u001b[43m        \u001b[49m\u001b[38;5;28;43mlist\u001b[39;49m\u001b[43m(\u001b[49m\u001b[43margs\u001b[49m\u001b[43m)\u001b[49m\u001b[43m,\u001b[49m\n\u001b[0;32m    254\u001b[0m \u001b[43m        \u001b[49m\u001b[38;5;28;43mlen\u001b[39;49m\u001b[43m(\u001b[49m\u001b[38;5;28;43mself\u001b[39;49m\u001b[38;5;241;43m.\u001b[39;49m\u001b[43mfunction_type\u001b[49m\u001b[38;5;241;43m.\u001b[39;49m\u001b[43mflat_outputs\u001b[49m\u001b[43m)\u001b[49m\u001b[43m,\u001b[49m\n\u001b[0;32m    255\u001b[0m \u001b[43m    \u001b[49m\u001b[43m)\u001b[49m\n\u001b[0;32m    256\u001b[0m   \u001b[38;5;28;01melse\u001b[39;00m:\n\u001b[0;32m    257\u001b[0m     outputs \u001b[38;5;241m=\u001b[39m make_call_op_in_graph(\n\u001b[0;32m    258\u001b[0m         \u001b[38;5;28mself\u001b[39m,\n\u001b[0;32m    259\u001b[0m         \u001b[38;5;28mlist\u001b[39m(args),\n\u001b[0;32m    260\u001b[0m         \u001b[38;5;28mself\u001b[39m\u001b[38;5;241m.\u001b[39m_bound_context\u001b[38;5;241m.\u001b[39mfunction_call_options\u001b[38;5;241m.\u001b[39mas_attrs(),\n\u001b[0;32m    261\u001b[0m     )\n",
      "File \u001b[1;32mc:\\Users\\sageh\\AppData\\Local\\Programs\\Python\\Python312\\Lib\\site-packages\\tensorflow\\python\\eager\\context.py:1500\u001b[0m, in \u001b[0;36mContext.call_function\u001b[1;34m(self, name, tensor_inputs, num_outputs)\u001b[0m\n\u001b[0;32m   1498\u001b[0m cancellation_context \u001b[38;5;241m=\u001b[39m cancellation\u001b[38;5;241m.\u001b[39mcontext()\n\u001b[0;32m   1499\u001b[0m \u001b[38;5;28;01mif\u001b[39;00m cancellation_context \u001b[38;5;129;01mis\u001b[39;00m \u001b[38;5;28;01mNone\u001b[39;00m:\n\u001b[1;32m-> 1500\u001b[0m   outputs \u001b[38;5;241m=\u001b[39m \u001b[43mexecute\u001b[49m\u001b[38;5;241;43m.\u001b[39;49m\u001b[43mexecute\u001b[49m\u001b[43m(\u001b[49m\n\u001b[0;32m   1501\u001b[0m \u001b[43m      \u001b[49m\u001b[43mname\u001b[49m\u001b[38;5;241;43m.\u001b[39;49m\u001b[43mdecode\u001b[49m\u001b[43m(\u001b[49m\u001b[38;5;124;43m\"\u001b[39;49m\u001b[38;5;124;43mutf-8\u001b[39;49m\u001b[38;5;124;43m\"\u001b[39;49m\u001b[43m)\u001b[49m\u001b[43m,\u001b[49m\n\u001b[0;32m   1502\u001b[0m \u001b[43m      \u001b[49m\u001b[43mnum_outputs\u001b[49m\u001b[38;5;241;43m=\u001b[39;49m\u001b[43mnum_outputs\u001b[49m\u001b[43m,\u001b[49m\n\u001b[0;32m   1503\u001b[0m \u001b[43m      \u001b[49m\u001b[43minputs\u001b[49m\u001b[38;5;241;43m=\u001b[39;49m\u001b[43mtensor_inputs\u001b[49m\u001b[43m,\u001b[49m\n\u001b[0;32m   1504\u001b[0m \u001b[43m      \u001b[49m\u001b[43mattrs\u001b[49m\u001b[38;5;241;43m=\u001b[39;49m\u001b[43mattrs\u001b[49m\u001b[43m,\u001b[49m\n\u001b[0;32m   1505\u001b[0m \u001b[43m      \u001b[49m\u001b[43mctx\u001b[49m\u001b[38;5;241;43m=\u001b[39;49m\u001b[38;5;28;43mself\u001b[39;49m\u001b[43m,\u001b[49m\n\u001b[0;32m   1506\u001b[0m \u001b[43m  \u001b[49m\u001b[43m)\u001b[49m\n\u001b[0;32m   1507\u001b[0m \u001b[38;5;28;01melse\u001b[39;00m:\n\u001b[0;32m   1508\u001b[0m   outputs \u001b[38;5;241m=\u001b[39m execute\u001b[38;5;241m.\u001b[39mexecute_with_cancellation(\n\u001b[0;32m   1509\u001b[0m       name\u001b[38;5;241m.\u001b[39mdecode(\u001b[38;5;124m\"\u001b[39m\u001b[38;5;124mutf-8\u001b[39m\u001b[38;5;124m\"\u001b[39m),\n\u001b[0;32m   1510\u001b[0m       num_outputs\u001b[38;5;241m=\u001b[39mnum_outputs,\n\u001b[1;32m   (...)\u001b[0m\n\u001b[0;32m   1514\u001b[0m       cancellation_manager\u001b[38;5;241m=\u001b[39mcancellation_context,\n\u001b[0;32m   1515\u001b[0m   )\n",
      "File \u001b[1;32mc:\\Users\\sageh\\AppData\\Local\\Programs\\Python\\Python312\\Lib\\site-packages\\tensorflow\\python\\eager\\execute.py:53\u001b[0m, in \u001b[0;36mquick_execute\u001b[1;34m(op_name, num_outputs, inputs, attrs, ctx, name)\u001b[0m\n\u001b[0;32m     51\u001b[0m \u001b[38;5;28;01mtry\u001b[39;00m:\n\u001b[0;32m     52\u001b[0m   ctx\u001b[38;5;241m.\u001b[39mensure_initialized()\n\u001b[1;32m---> 53\u001b[0m   tensors \u001b[38;5;241m=\u001b[39m \u001b[43mpywrap_tfe\u001b[49m\u001b[38;5;241;43m.\u001b[39;49m\u001b[43mTFE_Py_Execute\u001b[49m\u001b[43m(\u001b[49m\u001b[43mctx\u001b[49m\u001b[38;5;241;43m.\u001b[39;49m\u001b[43m_handle\u001b[49m\u001b[43m,\u001b[49m\u001b[43m \u001b[49m\u001b[43mdevice_name\u001b[49m\u001b[43m,\u001b[49m\u001b[43m \u001b[49m\u001b[43mop_name\u001b[49m\u001b[43m,\u001b[49m\n\u001b[0;32m     54\u001b[0m \u001b[43m                                      \u001b[49m\u001b[43minputs\u001b[49m\u001b[43m,\u001b[49m\u001b[43m \u001b[49m\u001b[43mattrs\u001b[49m\u001b[43m,\u001b[49m\u001b[43m \u001b[49m\u001b[43mnum_outputs\u001b[49m\u001b[43m)\u001b[49m\n\u001b[0;32m     55\u001b[0m \u001b[38;5;28;01mexcept\u001b[39;00m core\u001b[38;5;241m.\u001b[39m_NotOkStatusException \u001b[38;5;28;01mas\u001b[39;00m e:\n\u001b[0;32m     56\u001b[0m   \u001b[38;5;28;01mif\u001b[39;00m name \u001b[38;5;129;01mis\u001b[39;00m \u001b[38;5;129;01mnot\u001b[39;00m \u001b[38;5;28;01mNone\u001b[39;00m:\n",
      "\u001b[1;31mKeyboardInterrupt\u001b[0m: "
     ]
    }
   ],
   "source": [
    "# 3. Define the Model\n",
    "model = Sequential()\n",
    "\n",
    "# Input layer\n",
    "model.add(Dense(128, input_dim=1027, activation='relu'))\n",
    "\n",
    "# Hidden layers\n",
    "model.add(Dense(256, activation='relu'))\n",
    "model.add(Dense(256, activation='relu'))\n",
    "model.add(Dense(256, activation='relu'))\n",
    "model.add(Dense(256, activation='relu'))\n",
    "model.add(Dense(128, activation='relu'))\n",
    "\n",
    "# Output layer\n",
    "model.add(Dense(1, activation='sigmoid'))\n",
    "\n",
    "# 4. Compile the Model\n",
    "model.compile(optimizer=Adam(learning_rate=0.001), \n",
    "              loss='binary_crossentropy', \n",
    "              metrics=['accuracy', Precision()])\n",
    "\n",
    "# 5. Train the Model\n",
    "history = model.fit(X_train, y_train, \n",
    "                    validation_split=0.2, \n",
    "                    epochs=1000, \n",
    "                    batch_size=32)\n",
    "\n",
    "# 6. Evaluate the Model\n",
    "loss, accuracy, precision = model.evaluate(X_test, y_test)\n",
    "print(f'Test Loss: {loss}')\n",
    "print(f'Test Accuracy: {accuracy}')\n",
    "print(f'Test Precision: {precision}')\n"
   ]
  },
  {
   "cell_type": "code",
   "execution_count": 40,
   "metadata": {},
   "outputs": [
    {
     "name": "stdout",
     "output_type": "stream",
     "text": [
      "\u001b[1m625/625\u001b[0m \u001b[32m━━━━━━━━━━━━━━━━━━━━\u001b[0m\u001b[37m\u001b[0m \u001b[1m1s\u001b[0m 827us/step\n"
     ]
    }
   ],
   "source": [
    "# Make predictions on the test set\n",
    "y_pred_proba = model.predict(X_test)"
   ]
  },
  {
   "cell_type": "code",
   "execution_count": 44,
   "metadata": {},
   "outputs": [
    {
     "name": "stdout",
     "output_type": "stream",
     "text": [
      "[[4.7577636e-05]\n",
      " [3.1310352e-04]\n",
      " [2.1947371e-03]\n",
      " ...\n",
      " [5.5799028e-05]\n",
      " [2.4714967e-04]\n",
      " [4.4312347e-02]]\n",
      "       binds\n",
      "75721      0\n",
      "80184      0\n",
      "19864      0\n",
      "76699      0\n",
      "92991      0\n",
      "...      ...\n",
      "32595      0\n",
      "29313      0\n",
      "37862      0\n",
      "53421      0\n",
      "42410      1\n",
      "\n",
      "[20000 rows x 1 columns]\n"
     ]
    }
   ],
   "source": [
    "print(y_pred_proba)\n",
    "print(y_test)"
   ]
  },
  {
   "cell_type": "code",
   "execution_count": 43,
   "metadata": {},
   "outputs": [
    {
     "name": "stdout",
     "output_type": "stream",
     "text": [
      "Mean Average Precision (mAP): 0.06\n"
     ]
    }
   ],
   "source": [
    "# Calculate the mean average precision\n",
    "map_score = average_precision_score(y_test, y_pred_proba)\n",
    "print(f\"Mean Average Precision (mAP): {map_score:.2f}\")"
   ]
  }
 ],
 "metadata": {
  "kernelspec": {
   "display_name": "Python 3",
   "language": "python",
   "name": "python3"
  },
  "language_info": {
   "codemirror_mode": {
    "name": "ipython",
    "version": 3
   },
   "file_extension": ".py",
   "mimetype": "text/x-python",
   "name": "python",
   "nbconvert_exporter": "python",
   "pygments_lexer": "ipython3",
   "version": "3.12.3"
  }
 },
 "nbformat": 4,
 "nbformat_minor": 2
}
