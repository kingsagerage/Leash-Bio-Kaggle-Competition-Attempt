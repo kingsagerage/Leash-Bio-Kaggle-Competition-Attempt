{
 "cells": [
  {
   "cell_type": "code",
   "execution_count": 1,
   "metadata": {},
   "outputs": [],
   "source": [
    "import pandas as pd\n",
    "import numpy as np\n",
    "import rdkit\n",
    "import duckdb\n",
    "from rdkit import Chem\n",
    "from rdkit.Chem import AllChem\n",
    "from sklearn.ensemble import RandomForestClassifier\n",
    "from sklearn.metrics import average_precision_score\n",
    "from sklearn.preprocessing import OneHotEncoder\n",
    "from sklearn.model_selection import train_test_split\n",
    "from sklearn.preprocessing import StandardScaler\n",
    "from tensorflow.keras.models import Sequential\n",
    "from tensorflow.keras.layers import Dense, Dropout\n",
    "from tensorflow.keras.optimizers import Adam\n",
    "from tensorflow.keras.callbacks import EarlyStopping\n",
    "import tensorflow as tf"
   ]
  },
  {
   "cell_type": "code",
   "execution_count": 53,
   "metadata": {},
   "outputs": [],
   "source": [
    "#Reading only 100,000 rows for the initial training and playground stuff\n",
    "train_df = pd.read_csv(r\"C:\\dta_genes\\train.csv\", nrows=100000)"
   ]
  },
  {
   "cell_type": "code",
   "execution_count": 3,
   "metadata": {},
   "outputs": [],
   "source": [
    "#Converting to RDKit molecules\n",
    "train_df['molecule'] = train_df['molecule_smiles'].apply(Chem.MolFromSmiles)"
   ]
  },
  {
   "cell_type": "code",
   "execution_count": 4,
   "metadata": {},
   "outputs": [],
   "source": [
    "# Generate ECFPs\n",
    "def generate_ecfp(molecule, radius=2, bits=1024):\n",
    "    if molecule is None:\n",
    "        return None\n",
    "    return list(AllChem.GetMorganFingerprintAsBitVect(molecule, radius, nBits=bits))\n",
    "\n",
    "train_df['ecfp'] = train_df['molecule'].apply(generate_ecfp)"
   ]
  },
  {
   "cell_type": "code",
   "execution_count": 5,
   "metadata": {},
   "outputs": [
    {
     "data": {
      "text/html": [
       "<div>\n",
       "<style scoped>\n",
       "    .dataframe tbody tr th:only-of-type {\n",
       "        vertical-align: middle;\n",
       "    }\n",
       "\n",
       "    .dataframe tbody tr th {\n",
       "        vertical-align: top;\n",
       "    }\n",
       "\n",
       "    .dataframe thead th {\n",
       "        text-align: right;\n",
       "    }\n",
       "</style>\n",
       "<table border=\"1\" class=\"dataframe\">\n",
       "  <thead>\n",
       "    <tr style=\"text-align: right;\">\n",
       "      <th></th>\n",
       "      <th>id</th>\n",
       "      <th>buildingblock1_smiles</th>\n",
       "      <th>buildingblock2_smiles</th>\n",
       "      <th>buildingblock3_smiles</th>\n",
       "      <th>molecule_smiles</th>\n",
       "      <th>protein_name</th>\n",
       "      <th>binds</th>\n",
       "      <th>molecule</th>\n",
       "      <th>ecfp</th>\n",
       "    </tr>\n",
       "  </thead>\n",
       "  <tbody>\n",
       "    <tr>\n",
       "      <th>0</th>\n",
       "      <td>0</td>\n",
       "      <td>C#CC[C@@H](CC(=O)O)NC(=O)OCC1c2ccccc2-c2ccccc21</td>\n",
       "      <td>C#CCOc1ccc(CN)cc1.Cl</td>\n",
       "      <td>Br.Br.NCC1CCCN1c1cccnn1</td>\n",
       "      <td>C#CCOc1ccc(CNc2nc(NCC3CCCN3c3cccnn3)nc(N[C@@H]...</td>\n",
       "      <td>BRD4</td>\n",
       "      <td>0</td>\n",
       "      <td>&lt;rdkit.Chem.rdchem.Mol object at 0x00000279CBB...</td>\n",
       "      <td>[0, 1, 0, 0, 1, 0, 0, 0, 0, 0, 0, 0, 0, 0, 0, ...</td>\n",
       "    </tr>\n",
       "    <tr>\n",
       "      <th>1</th>\n",
       "      <td>1</td>\n",
       "      <td>C#CC[C@@H](CC(=O)O)NC(=O)OCC1c2ccccc2-c2ccccc21</td>\n",
       "      <td>C#CCOc1ccc(CN)cc1.Cl</td>\n",
       "      <td>Br.Br.NCC1CCCN1c1cccnn1</td>\n",
       "      <td>C#CCOc1ccc(CNc2nc(NCC3CCCN3c3cccnn3)nc(N[C@@H]...</td>\n",
       "      <td>HSA</td>\n",
       "      <td>0</td>\n",
       "      <td>&lt;rdkit.Chem.rdchem.Mol object at 0x00000279CBB...</td>\n",
       "      <td>[0, 1, 0, 0, 1, 0, 0, 0, 0, 0, 0, 0, 0, 0, 0, ...</td>\n",
       "    </tr>\n",
       "    <tr>\n",
       "      <th>2</th>\n",
       "      <td>2</td>\n",
       "      <td>C#CC[C@@H](CC(=O)O)NC(=O)OCC1c2ccccc2-c2ccccc21</td>\n",
       "      <td>C#CCOc1ccc(CN)cc1.Cl</td>\n",
       "      <td>Br.Br.NCC1CCCN1c1cccnn1</td>\n",
       "      <td>C#CCOc1ccc(CNc2nc(NCC3CCCN3c3cccnn3)nc(N[C@@H]...</td>\n",
       "      <td>sEH</td>\n",
       "      <td>0</td>\n",
       "      <td>&lt;rdkit.Chem.rdchem.Mol object at 0x00000279CBB...</td>\n",
       "      <td>[0, 1, 0, 0, 1, 0, 0, 0, 0, 0, 0, 0, 0, 0, 0, ...</td>\n",
       "    </tr>\n",
       "    <tr>\n",
       "      <th>3</th>\n",
       "      <td>3</td>\n",
       "      <td>C#CC[C@@H](CC(=O)O)NC(=O)OCC1c2ccccc2-c2ccccc21</td>\n",
       "      <td>C#CCOc1ccc(CN)cc1.Cl</td>\n",
       "      <td>Br.NCc1cccc(Br)n1</td>\n",
       "      <td>C#CCOc1ccc(CNc2nc(NCc3cccc(Br)n3)nc(N[C@@H](CC...</td>\n",
       "      <td>BRD4</td>\n",
       "      <td>0</td>\n",
       "      <td>&lt;rdkit.Chem.rdchem.Mol object at 0x00000279CBB...</td>\n",
       "      <td>[0, 1, 0, 0, 0, 0, 0, 0, 0, 0, 0, 0, 0, 0, 0, ...</td>\n",
       "    </tr>\n",
       "    <tr>\n",
       "      <th>4</th>\n",
       "      <td>4</td>\n",
       "      <td>C#CC[C@@H](CC(=O)O)NC(=O)OCC1c2ccccc2-c2ccccc21</td>\n",
       "      <td>C#CCOc1ccc(CN)cc1.Cl</td>\n",
       "      <td>Br.NCc1cccc(Br)n1</td>\n",
       "      <td>C#CCOc1ccc(CNc2nc(NCc3cccc(Br)n3)nc(N[C@@H](CC...</td>\n",
       "      <td>HSA</td>\n",
       "      <td>0</td>\n",
       "      <td>&lt;rdkit.Chem.rdchem.Mol object at 0x00000279CBB...</td>\n",
       "      <td>[0, 1, 0, 0, 0, 0, 0, 0, 0, 0, 0, 0, 0, 0, 0, ...</td>\n",
       "    </tr>\n",
       "  </tbody>\n",
       "</table>\n",
       "</div>"
      ],
      "text/plain": [
       "   id                            buildingblock1_smiles buildingblock2_smiles  \\\n",
       "0   0  C#CC[C@@H](CC(=O)O)NC(=O)OCC1c2ccccc2-c2ccccc21  C#CCOc1ccc(CN)cc1.Cl   \n",
       "1   1  C#CC[C@@H](CC(=O)O)NC(=O)OCC1c2ccccc2-c2ccccc21  C#CCOc1ccc(CN)cc1.Cl   \n",
       "2   2  C#CC[C@@H](CC(=O)O)NC(=O)OCC1c2ccccc2-c2ccccc21  C#CCOc1ccc(CN)cc1.Cl   \n",
       "3   3  C#CC[C@@H](CC(=O)O)NC(=O)OCC1c2ccccc2-c2ccccc21  C#CCOc1ccc(CN)cc1.Cl   \n",
       "4   4  C#CC[C@@H](CC(=O)O)NC(=O)OCC1c2ccccc2-c2ccccc21  C#CCOc1ccc(CN)cc1.Cl   \n",
       "\n",
       "     buildingblock3_smiles                                    molecule_smiles  \\\n",
       "0  Br.Br.NCC1CCCN1c1cccnn1  C#CCOc1ccc(CNc2nc(NCC3CCCN3c3cccnn3)nc(N[C@@H]...   \n",
       "1  Br.Br.NCC1CCCN1c1cccnn1  C#CCOc1ccc(CNc2nc(NCC3CCCN3c3cccnn3)nc(N[C@@H]...   \n",
       "2  Br.Br.NCC1CCCN1c1cccnn1  C#CCOc1ccc(CNc2nc(NCC3CCCN3c3cccnn3)nc(N[C@@H]...   \n",
       "3        Br.NCc1cccc(Br)n1  C#CCOc1ccc(CNc2nc(NCc3cccc(Br)n3)nc(N[C@@H](CC...   \n",
       "4        Br.NCc1cccc(Br)n1  C#CCOc1ccc(CNc2nc(NCc3cccc(Br)n3)nc(N[C@@H](CC...   \n",
       "\n",
       "  protein_name  binds                                           molecule  \\\n",
       "0         BRD4      0  <rdkit.Chem.rdchem.Mol object at 0x00000279CBB...   \n",
       "1          HSA      0  <rdkit.Chem.rdchem.Mol object at 0x00000279CBB...   \n",
       "2          sEH      0  <rdkit.Chem.rdchem.Mol object at 0x00000279CBB...   \n",
       "3         BRD4      0  <rdkit.Chem.rdchem.Mol object at 0x00000279CBB...   \n",
       "4          HSA      0  <rdkit.Chem.rdchem.Mol object at 0x00000279CBB...   \n",
       "\n",
       "                                                ecfp  \n",
       "0  [0, 1, 0, 0, 1, 0, 0, 0, 0, 0, 0, 0, 0, 0, 0, ...  \n",
       "1  [0, 1, 0, 0, 1, 0, 0, 0, 0, 0, 0, 0, 0, 0, 0, ...  \n",
       "2  [0, 1, 0, 0, 1, 0, 0, 0, 0, 0, 0, 0, 0, 0, 0, ...  \n",
       "3  [0, 1, 0, 0, 0, 0, 0, 0, 0, 0, 0, 0, 0, 0, 0, ...  \n",
       "4  [0, 1, 0, 0, 0, 0, 0, 0, 0, 0, 0, 0, 0, 0, 0, ...  "
      ]
     },
     "execution_count": 5,
     "metadata": {},
     "output_type": "execute_result"
    }
   ],
   "source": [
    "train_df.head()"
   ]
  },
  {
   "cell_type": "code",
   "execution_count": 6,
   "metadata": {},
   "outputs": [],
   "source": [
    "# One hot encoding protein name\n",
    "one_hot_encoded = pd.get_dummies(train_df['protein_name'], prefix='Protein: ')\n",
    "one_hot_encoded = one_hot_encoded.astype(int)\n",
    "ndfn = train_df.drop('protein_name', axis=1)\n",
    "ndf = pd.concat([ndfn, one_hot_encoded], axis=1)"
   ]
  },
  {
   "cell_type": "code",
   "execution_count": 7,
   "metadata": {},
   "outputs": [
    {
     "name": "stdout",
     "output_type": "stream",
     "text": [
      "Index(['id', 'buildingblock1_smiles', 'buildingblock2_smiles',\n",
      "       'buildingblock3_smiles', 'molecule_smiles', 'binds', 'molecule', 'ecfp',\n",
      "       'Protein: _BRD4', 'Protein: _HSA', 'Protein: _sEH'],\n",
      "      dtype='object')\n"
     ]
    }
   ],
   "source": [
    "print(ndf.columns)"
   ]
  },
  {
   "cell_type": "code",
   "execution_count": 11,
   "metadata": {},
   "outputs": [
    {
     "name": "stdout",
     "output_type": "stream",
     "text": [
      "[1024]\n"
     ]
    }
   ],
   "source": [
    "list_lengths = ndf['ecfp'].apply(len)\n",
    "print(list_lengths.unique())"
   ]
  },
  {
   "cell_type": "code",
   "execution_count": 12,
   "metadata": {},
   "outputs": [],
   "source": [
    "# Convert the list column into separate columns\n",
    "expanded_df = pd.DataFrame(ndf['ecfp'].to_list(), columns=[f'ecfp_{i+1}' for i in range(1024)])\n",
    "\n",
    "# Combine the expanded DataFrame with the original DataFrame\n",
    "result_df = pd.concat([ndf, expanded_df], axis=1)\n",
    "\n",
    "# Drop the original 'ecfp' column\n",
    "result_df.drop(columns=['ecfp'], inplace=True)\n"
   ]
  },
  {
   "cell_type": "code",
   "execution_count": 30,
   "metadata": {},
   "outputs": [
    {
     "name": "stdout",
     "output_type": "stream",
     "text": [
      "          id  binds  Protein: _BRD4  Protein: _HSA  Protein: _sEH  ecfp_1  \\\n",
      "0          0      0               1              0              0       0   \n",
      "1          1      0               0              1              0       0   \n",
      "2          2      0               0              0              1       0   \n",
      "3          3      0               1              0              0       0   \n",
      "4          4      0               0              1              0       0   \n",
      "...      ...    ...             ...            ...            ...     ...   \n",
      "99995  99995      0               0              0              1       0   \n",
      "99996  99996      0               1              0              0       0   \n",
      "99997  99997      0               0              1              0       0   \n",
      "99998  99998      0               0              0              1       0   \n",
      "99999  99999      0               1              0              0       0   \n",
      "\n",
      "       ecfp_2  ecfp_3  ecfp_4  ecfp_5  ...  ecfp_1015  ecfp_1016  ecfp_1017  \\\n",
      "0           1       0       0       1  ...          0          0          0   \n",
      "1           1       0       0       1  ...          0          0          0   \n",
      "2           1       0       0       1  ...          0          0          0   \n",
      "3           1       0       0       0  ...          0          0          0   \n",
      "4           1       0       0       0  ...          0          0          0   \n",
      "...       ...     ...     ...     ...  ...        ...        ...        ...   \n",
      "99995       1       0       0       0  ...          0          0          0   \n",
      "99996       1       0       0       0  ...          0          0          0   \n",
      "99997       1       0       0       0  ...          0          0          0   \n",
      "99998       1       0       0       0  ...          0          0          0   \n",
      "99999       1       0       1       0  ...          0          0          0   \n",
      "\n",
      "       ecfp_1018  ecfp_1019  ecfp_1020  ecfp_1021  ecfp_1022  ecfp_1023  \\\n",
      "0              0          0          1          0          0          0   \n",
      "1              0          0          1          0          0          0   \n",
      "2              0          0          1          0          0          0   \n",
      "3              0          0          0          0          0          0   \n",
      "4              0          0          0          0          0          0   \n",
      "...          ...        ...        ...        ...        ...        ...   \n",
      "99995          0          0          0          0          0          0   \n",
      "99996          0          0          0          0          0          0   \n",
      "99997          0          0          0          0          0          0   \n",
      "99998          0          0          0          0          0          0   \n",
      "99999          0          0          0          0          0          0   \n",
      "\n",
      "       ecfp_1024  \n",
      "0              0  \n",
      "1              0  \n",
      "2              0  \n",
      "3              0  \n",
      "4              0  \n",
      "...          ...  \n",
      "99995          0  \n",
      "99996          0  \n",
      "99997          0  \n",
      "99998          0  \n",
      "99999          0  \n",
      "\n",
      "[100000 rows x 1029 columns]\n"
     ]
    }
   ],
   "source": [
    "# Filter numeric columns\n",
    "numeric_columns = result_df.select_dtypes(include='number').columns\n",
    "\n",
    "# Keep only numeric columns\n",
    "df_numeric = result_df[numeric_columns]\n",
    "\n",
    "# Alternatively, drop non-numeric columns\n",
    "df_numeric = result_df.select_dtypes(include='number')\n",
    "\n",
    "# If you want to modify the original DataFrame in-place, you can use the inplace parameter\n",
    "# df.drop(df.select_dtypes(exclude='number').columns, axis=1, inplace=True)\n",
    "\n",
    "# Display the DataFrame with only numeric columns\n",
    "print(df_numeric)"
   ]
  },
  {
   "cell_type": "code",
   "execution_count": 31,
   "metadata": {},
   "outputs": [],
   "source": [
    "X = df_numeric.drop(columns=['id','binds'])\n",
    "y = df_numeric[['binds']]"
   ]
  },
  {
   "cell_type": "code",
   "execution_count": 32,
   "metadata": {},
   "outputs": [],
   "source": [
    "# Split the data into train and test sets\n",
    "X_train, X_test, y_train, y_test = train_test_split(X, y, test_size=0.2, random_state=42)"
   ]
  },
  {
   "cell_type": "code",
   "execution_count": 33,
   "metadata": {},
   "outputs": [
    {
     "name": "stdout",
     "output_type": "stream",
     "text": [
      "Index(['Protein: _BRD4', 'Protein: _HSA', 'Protein: _sEH', 'ecfp_1', 'ecfp_2',\n",
      "       'ecfp_3', 'ecfp_4', 'ecfp_5', 'ecfp_6', 'ecfp_7',\n",
      "       ...\n",
      "       'ecfp_1015', 'ecfp_1016', 'ecfp_1017', 'ecfp_1018', 'ecfp_1019',\n",
      "       'ecfp_1020', 'ecfp_1021', 'ecfp_1022', 'ecfp_1023', 'ecfp_1024'],\n",
      "      dtype='object', length=1027)\n"
     ]
    }
   ],
   "source": [
    "print(X_test.columns)"
   ]
  },
  {
   "cell_type": "code",
   "execution_count": 35,
   "metadata": {},
   "outputs": [
    {
     "name": "stderr",
     "output_type": "stream",
     "text": [
      "c:\\Users\\sageh\\AppData\\Local\\Programs\\Python\\Python312\\Lib\\site-packages\\keras\\src\\layers\\core\\dense.py:87: UserWarning: Do not pass an `input_shape`/`input_dim` argument to a layer. When using Sequential models, prefer using an `Input(shape)` object as the first layer in the model instead.\n",
      "  super().__init__(activity_regularizer=activity_regularizer, **kwargs)\n"
     ]
    },
    {
     "name": "stdout",
     "output_type": "stream",
     "text": [
      "Epoch 1/100\n",
      "\u001b[1m2000/2000\u001b[0m \u001b[32m━━━━━━━━━━━━━━━━━━━━\u001b[0m\u001b[37m\u001b[0m \u001b[1m5s\u001b[0m 2ms/step - accuracy: 0.9963 - loss: 0.0350 - val_accuracy: 0.9974 - val_loss: 0.0161\n",
      "Epoch 2/100\n",
      "\u001b[1m2000/2000\u001b[0m \u001b[32m━━━━━━━━━━━━━━━━━━━━\u001b[0m\u001b[37m\u001b[0m \u001b[1m4s\u001b[0m 2ms/step - accuracy: 0.9977 - loss: 0.0185 - val_accuracy: 0.9974 - val_loss: 0.0172\n",
      "Epoch 3/100\n",
      "\u001b[1m2000/2000\u001b[0m \u001b[32m━━━━━━━━━━━━━━━━━━━━\u001b[0m\u001b[37m\u001b[0m \u001b[1m4s\u001b[0m 2ms/step - accuracy: 0.9974 - loss: 0.0159 - val_accuracy: 0.9974 - val_loss: 0.0223\n",
      "Epoch 4/100\n",
      "\u001b[1m2000/2000\u001b[0m \u001b[32m━━━━━━━━━━━━━━━━━━━━\u001b[0m\u001b[37m\u001b[0m \u001b[1m4s\u001b[0m 2ms/step - accuracy: 0.9976 - loss: 0.0158 - val_accuracy: 0.9974 - val_loss: 0.0188\n",
      "Epoch 5/100\n",
      "\u001b[1m2000/2000\u001b[0m \u001b[32m━━━━━━━━━━━━━━━━━━━━\u001b[0m\u001b[37m\u001b[0m \u001b[1m4s\u001b[0m 2ms/step - accuracy: 0.9978 - loss: 0.0147 - val_accuracy: 0.9974 - val_loss: 0.0189\n",
      "Epoch 6/100\n",
      "\u001b[1m2000/2000\u001b[0m \u001b[32m━━━━━━━━━━━━━━━━━━━━\u001b[0m\u001b[37m\u001b[0m \u001b[1m4s\u001b[0m 2ms/step - accuracy: 0.9974 - loss: 0.0154 - val_accuracy: 0.9974 - val_loss: 0.0326\n",
      "Epoch 7/100\n",
      "\u001b[1m2000/2000\u001b[0m \u001b[32m━━━━━━━━━━━━━━━━━━━━\u001b[0m\u001b[37m\u001b[0m \u001b[1m4s\u001b[0m 2ms/step - accuracy: 0.9980 - loss: 0.0184 - val_accuracy: 0.9974 - val_loss: 0.0430\n",
      "Epoch 8/100\n",
      "\u001b[1m2000/2000\u001b[0m \u001b[32m━━━━━━━━━━━━━━━━━━━━\u001b[0m\u001b[37m\u001b[0m \u001b[1m4s\u001b[0m 2ms/step - accuracy: 0.9978 - loss: 0.0183 - val_accuracy: 0.9974 - val_loss: 0.0343\n",
      "Epoch 9/100\n",
      "\u001b[1m2000/2000\u001b[0m \u001b[32m━━━━━━━━━━━━━━━━━━━━\u001b[0m\u001b[37m\u001b[0m \u001b[1m4s\u001b[0m 2ms/step - accuracy: 0.9978 - loss: 0.0146 - val_accuracy: 0.9974 - val_loss: 0.0402\n",
      "Epoch 10/100\n",
      "\u001b[1m2000/2000\u001b[0m \u001b[32m━━━━━━━━━━━━━━━━━━━━\u001b[0m\u001b[37m\u001b[0m \u001b[1m4s\u001b[0m 2ms/step - accuracy: 0.9975 - loss: 0.0139 - val_accuracy: 0.9974 - val_loss: 0.0347\n",
      "Epoch 11/100\n",
      "\u001b[1m2000/2000\u001b[0m \u001b[32m━━━━━━━━━━━━━━━━━━━━\u001b[0m\u001b[37m\u001b[0m \u001b[1m4s\u001b[0m 2ms/step - accuracy: 0.9973 - loss: 0.0144 - val_accuracy: 0.9974 - val_loss: 0.1347\n",
      "\u001b[1m625/625\u001b[0m \u001b[32m━━━━━━━━━━━━━━━━━━━━\u001b[0m\u001b[37m\u001b[0m \u001b[1m1s\u001b[0m 797us/step - accuracy: 0.9979 - loss: 0.0140\n",
      "Test Loss: 0.014445854350924492\n",
      "Test Accuracy: 0.9978500008583069\n"
     ]
    }
   ],
   "source": [
    "# 3. Define the Model\n",
    "model = Sequential()\n",
    "\n",
    "# Input layer\n",
    "model.add(Dense(128, input_dim=1027, activation='relu'))\n",
    "model.add(Dropout(0.3))\n",
    "\n",
    "# Hidden layers\n",
    "model.add(Dense(256, activation='relu'))\n",
    "model.add(Dropout(0.3))\n",
    "model.add(Dense(256, activation='relu'))\n",
    "model.add(Dropout(0.3))\n",
    "model.add(Dense(128, activation='relu'))\n",
    "model.add(Dropout(0.3))\n",
    "\n",
    "# Output layer\n",
    "model.add(Dense(1, activation='sigmoid'))\n",
    "\n",
    "# 4. Compile the Model\n",
    "model.compile(optimizer=Adam(learning_rate=0.001), \n",
    "              loss='binary_crossentropy', \n",
    "              metrics=['accuracy'])\n",
    "\n",
    "# 5. Train the Model\n",
    "early_stopping = EarlyStopping(monitor='val_loss', patience=10, restore_best_weights=True)\n",
    "\n",
    "history = model.fit(X_train, y_train, \n",
    "                    validation_split=0.2, \n",
    "                    epochs=100, \n",
    "                    batch_size=32, \n",
    "                    callbacks=[early_stopping])\n",
    "\n",
    "# 6. Evaluate the Model\n",
    "loss, accuracy = model.evaluate(X_test, y_test)\n",
    "print(f'Test Loss: {loss}')\n",
    "print(f'Test Accuracy: {accuracy}')\n"
   ]
  },
  {
   "cell_type": "code",
   "execution_count": 40,
   "metadata": {},
   "outputs": [
    {
     "name": "stdout",
     "output_type": "stream",
     "text": [
      "\u001b[1m625/625\u001b[0m \u001b[32m━━━━━━━━━━━━━━━━━━━━\u001b[0m\u001b[37m\u001b[0m \u001b[1m1s\u001b[0m 827us/step\n"
     ]
    }
   ],
   "source": [
    "# Make predictions on the test set\n",
    "y_pred_proba = model.predict(X_test)"
   ]
  },
  {
   "cell_type": "code",
   "execution_count": 44,
   "metadata": {},
   "outputs": [
    {
     "name": "stdout",
     "output_type": "stream",
     "text": [
      "[[4.7577636e-05]\n",
      " [3.1310352e-04]\n",
      " [2.1947371e-03]\n",
      " ...\n",
      " [5.5799028e-05]\n",
      " [2.4714967e-04]\n",
      " [4.4312347e-02]]\n",
      "       binds\n",
      "75721      0\n",
      "80184      0\n",
      "19864      0\n",
      "76699      0\n",
      "92991      0\n",
      "...      ...\n",
      "32595      0\n",
      "29313      0\n",
      "37862      0\n",
      "53421      0\n",
      "42410      1\n",
      "\n",
      "[20000 rows x 1 columns]\n"
     ]
    }
   ],
   "source": [
    "print(y_pred_proba)\n",
    "print(y_test)"
   ]
  },
  {
   "cell_type": "code",
   "execution_count": 43,
   "metadata": {},
   "outputs": [
    {
     "name": "stdout",
     "output_type": "stream",
     "text": [
      "Mean Average Precision (mAP): 0.06\n"
     ]
    }
   ],
   "source": [
    "# Calculate the mean average precision\n",
    "map_score = average_precision_score(y_test, y_pred_proba)\n",
    "print(f\"Mean Average Precision (mAP): {map_score:.2f}\")"
   ]
  }
 ],
 "metadata": {
  "kernelspec": {
   "display_name": "Python 3",
   "language": "python",
   "name": "python3"
  },
  "language_info": {
   "codemirror_mode": {
    "name": "ipython",
    "version": 3
   },
   "file_extension": ".py",
   "mimetype": "text/x-python",
   "name": "python",
   "nbconvert_exporter": "python",
   "pygments_lexer": "ipython3",
   "version": "3.12.3"
  }
 },
 "nbformat": 4,
 "nbformat_minor": 2
}
